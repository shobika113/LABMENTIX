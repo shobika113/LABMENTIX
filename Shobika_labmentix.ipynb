{
  "nbformat": 4,
  "nbformat_minor": 0,
  "metadata": {
    "colab": {
      "private_outputs": true,
      "provenance": [],
      "collapsed_sections": [
        "w6K7xa23Elo4",
        "mDgbUHAGgjLW",
        "0wOQAZs5pc--",
        "KSlN3yHqYklG",
        "EM7whBJCYoAo",
        "4Of9eVA-YrdM",
        "bamQiAODYuh1",
        "OH-pJp9IphqM",
        "_ouA3fa0phqN",
        "PIIx-8_IphqN",
        "r2jJGEOYphqO",
        "b0JNsNcRphqO",
        "BZR9WyysphqO",
        "jj7wYXLtphqO",
        "rFu4xreNphqO",
        "YJ55k-q6phqO",
        "gCFgpxoyphqP",
        "OVtJsKN_phqQ",
        "U2RJ9gkRphqQ",
        "1M8mcRywphqQ",
        "tgIPom80phqQ",
        "X_VqEhTip1ck",
        "8zGJKyg5p1ck",
        "PVzmfK_Ep1ck",
        "n3dbpmDWp1ck",
        "ylSl6qgtp1ck",
        "ZWILFDl5p1ck",
        "M7G43BXep1ck",
        "Ag9LCva-p1cl",
        "E6MkPsBcp1cl",
        "2cELzS2fp1cl",
        "NC_X3p0fY2L0",
        "UV0SzAkaZNRQ",
        "YPEH6qLeZNRQ",
        "q29F0dvdveiT",
        "EXh0U9oCveiU",
        "22aHeOlLveiV",
        "gCX9965dhzqZ"
      ],
      "include_colab_link": true
    },
    "kernelspec": {
      "name": "python3",
      "display_name": "Python 3"
    },
    "language_info": {
      "name": "python"
    }
  },
  "cells": [
    {
      "cell_type": "markdown",
      "metadata": {
        "id": "view-in-github",
        "colab_type": "text"
      },
      "source": [
        "<a href=\"https://colab.research.google.com/github/shobika113/LABMENTIX/blob/main/Shobika_labmentix.ipynb\" target=\"_parent\"><img src=\"https://colab.research.google.com/assets/colab-badge.svg\" alt=\"Open In Colab\"/></a>"
      ]
    },
    {
      "cell_type": "markdown",
      "source": [
        "# **Project Name**    -\n",
        "\n"
      ],
      "metadata": {
        "id": "vncDsAP0Gaoa"
      }
    },
    {
      "cell_type": "markdown",
      "source": [
        "*   Project Type - EDA\n",
        "*  Contribution - Individual\n",
        "*   Shobika K\n",
        "\n",
        "\n",
        "\n",
        "\n",
        "\n"
      ],
      "metadata": {
        "id": "beRrZCGUAJYm"
      }
    },
    {
      "cell_type": "markdown",
      "source": [
        "# **Project Summary -**"
      ],
      "metadata": {
        "id": "FJNUwmbgGyua"
      }
    },
    {
      "cell_type": "markdown",
      "source": [
        "Project Summary: Clustering Netflix Movies and TV Shows Using Unsupervised Learning\n",
        "  \n",
        "  The growth of online streaming platforms like Netflix has led to an explosion of digital content including movies, documentaries, and TV series across diverse genres, languages, and countries. With such a vast and varied catalog, organizing and categorizing content meaningfully is essential to improve user experience, personalized recommendations, and content insights. This project focuses on applying unsupervised machine learning techniques to perform clustering on Netflix content, aiming to discover hidden patterns and natural groupings among movies and TV shows without prior labeling.\n",
        "\n",
        "Objective:\n",
        "\n",
        "  The main objective of this project is to use clustering algorithms to group similar titles available on Netflix based on multiple attributes such as genre, description, duration, type, rating, and release year. By identifying clusters, the goal is to uncover latent structures and meaningful segments like genre-based groups, family-friendly content, or country-specific content types."
      ],
      "metadata": {
        "id": "F6v_1wHtG2nS"
      }
    },
    {
      "cell_type": "markdown",
      "source": [
        "# **GitHub Link -**"
      ],
      "metadata": {
        "id": "w6K7xa23Elo4"
      }
    },
    {
      "cell_type": "markdown",
      "source": [
        "Provide your GitHub Link here."
      ],
      "metadata": {
        "id": "h1o69JH3Eqqn"
      }
    },
    {
      "cell_type": "markdown",
      "source": [
        "# **Problem Statement**\n"
      ],
      "metadata": {
        "id": "yQaldy8SH6Dl"
      }
    },
    {
      "cell_type": "markdown",
      "source": [
        "The project aims to cluster Netflix movies and TV shows using unsupervised machine learning to uncover hidden patterns based on features like genre, description, duration, and ratings. This helps in categorizing content meaningfully, enhancing recommendations, and improving user experience without relying on manually labeled data.\n"
      ],
      "metadata": {
        "id": "DpeJGUA3kjGy"
      }
    },
    {
      "cell_type": "markdown",
      "source": [
        "#### **Define Your Business Objective?**"
      ],
      "metadata": {
        "id": "PH-0ReGfmX4f"
      }
    },
    {
      "cell_type": "markdown",
      "source": [
        "The business objective of this project is to enhance content discovery and user engagement on Netflix by automatically grouping similar movies and TV shows using unsupervised machine learning. By identifying natural clusters in the content library, Netflix can improve personalized recommendations, streamline content organization, and support data-driven content acquisition strategies."
      ],
      "metadata": {
        "id": "PhDvGCAqmjP1"
      }
    },
    {
      "cell_type": "markdown",
      "source": [
        "# **General Guidelines** : -  "
      ],
      "metadata": {
        "id": "mDgbUHAGgjLW"
      }
    },
    {
      "cell_type": "markdown",
      "source": [
        "1.   Well-structured, formatted, and commented code is required.\n",
        "2.   Exception Handling, Production Grade Code & Deployment Ready Code will be a plus. Those students will be awarded some additional credits.\n",
        "     \n",
        "     The additional credits will have advantages over other students during Star Student selection.\n",
        "       \n",
        "             [ Note: - Deployment Ready Code is defined as, the whole .ipynb notebook should be executable in one go\n",
        "                       without a single error logged. ]\n",
        "\n",
        "3.   Each and every logic should have proper comments.\n",
        "4. You may add as many number of charts you want. Make Sure for each and every chart the following format should be answered.\n",
        "        \n",
        "\n",
        "```\n",
        "# Chart visualization code\n",
        "```\n",
        "            \n",
        "\n",
        "*   Why did you pick the specific chart?\n",
        "*   What is/are the insight(s) found from the chart?\n",
        "* Will the gained insights help creating a positive business impact?\n",
        "Are there any insights that lead to negative growth? Justify with specific reason.\n",
        "\n",
        "5. You have to create at least 20 logical & meaningful charts having important insights.\n",
        "\n",
        "\n",
        "[ Hints : - Do the Vizualization in  a structured way while following \"UBM\" Rule.\n",
        "\n",
        "U - Univariate Analysis,\n",
        "\n",
        "B - Bivariate Analysis (Numerical - Categorical, Numerical - Numerical, Categorical - Categorical)\n",
        "\n",
        "M - Multivariate Analysis\n",
        " ]\n",
        "\n",
        "\n",
        "\n"
      ],
      "metadata": {
        "id": "ZrxVaUj-hHfC"
      }
    },
    {
      "cell_type": "markdown",
      "source": [
        "# ***Let's Begin !***"
      ],
      "metadata": {
        "id": "O_i_v8NEhb9l"
      }
    },
    {
      "cell_type": "markdown",
      "source": [
        "## ***1. Know Your Data***"
      ],
      "metadata": {
        "id": "HhfV-JJviCcP"
      }
    },
    {
      "cell_type": "markdown",
      "source": [
        "### Import Libraries"
      ],
      "metadata": {
        "id": "Y3lxredqlCYt"
      }
    },
    {
      "cell_type": "code",
      "source": [
        " # For data manipulation and handling\n",
        "import pandas as pd\n",
        "import numpy as np\n",
        "\n",
        "    # For text processing\n",
        "import re\n",
        "import string\n",
        "from wordcloud import WordCloud, STOPWORDS\n",
        "\n",
        "\n",
        "    # For encoding and preprocessing\n",
        "from sklearn.preprocessing import StandardScaler, LabelEncoder, MultiLabelBinarizer\n",
        "\n",
        "    # For clustering\n",
        "from sklearn.cluster import KMeans, DBSCAN\n",
        "from sklearn.metrics import silhouette_score\n",
        "from scipy.cluster.hierarchy import dendrogram, linkage\n",
        "from sklearn.decomposition import PCA\n",
        "from sklearn.manifold import TSNE\n",
        "\n",
        "    # For visualization\n",
        "import matplotlib.pyplot as plt\n",
        "import seaborn as sns\n",
        "import plotly.express as px\n",
        "import plotly.graph_objects as go\n",
        "print(\"All libraries imported successfully.\")"
      ],
      "metadata": {
        "id": "M8Vqi-pPk-HR"
      },
      "execution_count": null,
      "outputs": []
    },
    {
      "cell_type": "markdown",
      "source": [
        "### Dataset Loading"
      ],
      "metadata": {
        "id": "3RnN4peoiCZX"
      }
    },
    {
      "cell_type": "code",
      "source": [
        "file_path = '/content/NETFLIX MOVIES AND TV SHOWS CLUSTERING.csv'\n",
        " # Load the dataset\n",
        "data = pd.read_csv(file_path)\n",
        "\n",
        "    # Display basic info\n",
        "print(\"✅ Dataset loaded successfully.\")"
      ],
      "metadata": {
        "id": "4CkvbW_SlZ_R"
      },
      "execution_count": null,
      "outputs": []
    },
    {
      "cell_type": "markdown",
      "source": [
        "### Dataset First View"
      ],
      "metadata": {
        "id": "x71ZqKXriCWQ"
      }
    },
    {
      "cell_type": "code",
      "source": [
        "data.head()"
      ],
      "metadata": {
        "id": "LWNFOSvLl09H"
      },
      "execution_count": null,
      "outputs": []
    },
    {
      "cell_type": "code",
      "source": [
        "data.tail()"
      ],
      "metadata": {
        "id": "vLi8wMRsst2c"
      },
      "execution_count": null,
      "outputs": []
    },
    {
      "cell_type": "markdown",
      "source": [
        "### Dataset Rows & Columns count"
      ],
      "metadata": {
        "id": "7hBIi_osiCS2"
      }
    },
    {
      "cell_type": "code",
      "source": [
        "rows, columns = data.shape\n",
        "print(f\"The dataset contains {rows} rows and {columns} columns.\")"
      ],
      "metadata": {
        "id": "Kllu7SJgmLij"
      },
      "execution_count": null,
      "outputs": []
    },
    {
      "cell_type": "markdown",
      "source": [
        "### Dataset Information"
      ],
      "metadata": {
        "id": "JlHwYmJAmNHm"
      }
    },
    {
      "cell_type": "code",
      "source": [
        "data.info()"
      ],
      "metadata": {
        "id": "e9hRXRi6meOf"
      },
      "execution_count": null,
      "outputs": []
    },
    {
      "cell_type": "markdown",
      "source": [
        "#### Duplicate Values"
      ],
      "metadata": {
        "id": "35m5QtbWiB9F"
      }
    },
    {
      "cell_type": "code",
      "source": [
        "duplicate_count = data.duplicated().sum()\n",
        "print(f\"Number of duplicate rows in the dataset: {duplicate_count}\")"
      ],
      "metadata": {
        "id": "1sLdpKYkmox0"
      },
      "execution_count": null,
      "outputs": []
    },
    {
      "cell_type": "markdown",
      "source": [
        "#### Missing Values/Null Values"
      ],
      "metadata": {
        "id": "PoPl-ycgm1ru"
      }
    },
    {
      "cell_type": "code",
      "source": [
        "missing_values = data.isnull().sum()\n",
        "print(\"Missing values in each column:\\n\")\n",
        "print(missing_values)"
      ],
      "metadata": {
        "id": "GgHWkxvamxVg"
      },
      "execution_count": null,
      "outputs": []
    },
    {
      "cell_type": "code",
      "source": [
        "import missingno as msno\n",
        "plt.figure(figsize=(10, 6))\n",
        "missing = data.isnull().sum()\n",
        "missing = missing[missing > 0].sort_values(ascending=False)\n",
        "missing.plot(kind='bar', color='salmon')\n",
        "plt.title(\"Missing Values per Column\", fontsize=14)\n",
        "plt.xlabel(\"Columns\")\n",
        "plt.ylabel(\"Number of Missing Values\")\n",
        "plt.xticks(rotation=45)\n",
        "plt.tight_layout()\n",
        "plt.show()\n",
        "plt.figure(figsize=(12, 6))\n",
        "sns.heatmap(data.isnull(), cbar=False, cmap='viridis')\n",
        "plt.title(\"Missing Data Heatmap\")\n",
        "plt.xlabel(\"Columns\")\n",
        "plt.ylabel(\"Row Index\")\n",
        "plt.show()"
      ],
      "metadata": {
        "id": "3q5wnI3om9sJ"
      },
      "execution_count": null,
      "outputs": []
    },
    {
      "cell_type": "markdown",
      "source": [
        "### What did you know about your dataset?"
      ],
      "metadata": {
        "id": "H0kj-8xxnORC"
      }
    },
    {
      "cell_type": "markdown",
      "source": [
        "The dataset contains 7,787 entries across 12 columns, providing a substantial amount of information. The director column has the highest number of missing values, followed by the cast and country columns, which may affect analysis involving these attributes. Importantly, the dataset contains no duplicate records, ensuring data uniqueness and integrity."
      ],
      "metadata": {
        "id": "gfoNAAC-nUe_"
      }
    },
    {
      "cell_type": "markdown",
      "source": [
        "## ***2. Understanding Your Variables***"
      ],
      "metadata": {
        "id": "nA9Y7ga8ng1Z"
      }
    },
    {
      "cell_type": "code",
      "source": [
        "column=data.columns.tolist()\n",
        "print(\"Column Names:\",column)"
      ],
      "metadata": {
        "id": "j7xfkqrt5Ag5"
      },
      "execution_count": null,
      "outputs": []
    },
    {
      "cell_type": "code",
      "source": [
        "# Dataset Describe\n",
        "data.describe(include='all').transpose()"
      ],
      "metadata": {
        "id": "DnOaZdaE5Q5t"
      },
      "execution_count": null,
      "outputs": []
    },
    {
      "cell_type": "markdown",
      "source": [
        "### Variables Description"
      ],
      "metadata": {
        "id": "PBTbrJXOngz2"
      }
    },
    {
      "cell_type": "code",
      "source": [
        "columns=['show_id', 'type', 'title', 'director', 'cast', 'country', 'date_added',\n",
        "       'release_year', 'rating', 'duration', 'listed_in', 'description']\n",
        "\n",
        "#for loop to count different values in the dataset\n",
        "for c in data[columns]:\n",
        "    print(\"---- %s ---\" % c)\n",
        "    print(data[c].value_counts())\n",
        "    print('\\n')"
      ],
      "metadata": {
        "id": "UNWtZu1Ny_YT"
      },
      "execution_count": null,
      "outputs": []
    },
    {
      "cell_type": "markdown",
      "source": [
        "The dataset consists of 7,787 rows and 12 columns, each representing details about Netflix content. The show_id column contains unique identifiers like \"s1\", \"s2\", and so on for each entry. The title provides the name of the show or movie, such as \"Rich in Love\". The director and cast columns list the names of directors and main actors, though these fields contain some missing values. country indicates the origin of the content, with 681 unique countries represented. date_added records when the show or movie was added to Netflix, while release_year shows the year it was originally released. The rating column contains official content ratings like PG, R, or TV-MA. duration varies by content type, showing the number of minutes for movies or number of seasons for TV shows, with 216 different values observed. The listed_in column provides genres or categories such as romantic comedies, thrillers, or foreign TV shows, with 419 total genre types. The description field includes a short summary of each title, and the type column classifies content as either a \"Movie\" or \"TV Show\"."
      ],
      "metadata": {
        "id": "aJV4KIxSnxay"
      }
    },
    {
      "cell_type": "markdown",
      "source": [
        "### Check Unique Values for each variable."
      ],
      "metadata": {
        "id": "u3PMJOP6ngxN"
      }
    },
    {
      "cell_type": "code",
      "source": [
        "# Check Unique Values for each variable.\n",
        "unique_values = data.nunique().sort_values(ascending=False)\n",
        "\n",
        "# Display the result\n",
        "print(\"Unique values in each column:\\n\")\n",
        "print(unique_values)"
      ],
      "metadata": {
        "id": "zms12Yq5n-jE"
      },
      "execution_count": null,
      "outputs": []
    },
    {
      "cell_type": "code",
      "source": [
        "unique_counts = data.nunique().sort_values()\n",
        "\n",
        "# Set plot style\n",
        "plt.figure(figsize=(10, 6))\n",
        "sns.barplot(x=unique_counts.values, y=unique_counts.index, palette='viridis')\n",
        "\n",
        "# Add labels and title\n",
        "plt.title(\"Unique Values per Column in Netflix Dataset\", fontsize=14)\n",
        "plt.xlabel(\"Number of Unique Values\")\n",
        "plt.ylabel(\"Columns\")\n",
        "plt.tight_layout()\n",
        "plt.show()"
      ],
      "metadata": {
        "id": "zg9xSLrg3Bbl"
      },
      "execution_count": null,
      "outputs": []
    },
    {
      "cell_type": "markdown",
      "source": [
        "## 3. ***Data Wrangling***"
      ],
      "metadata": {
        "id": "dauF4eBmngu3"
      }
    },
    {
      "cell_type": "markdown",
      "source": [
        "### Data Wrangling Code"
      ],
      "metadata": {
        "id": "bKJF3rekwFvQ"
      }
    },
    {
      "cell_type": "code",
      "source": [
        "# Write your code to make your dataset analysis ready.\n",
        "# 1. Remove duplicates\n",
        "data.drop_duplicates(inplace=True)\n",
        "\n",
        "# 2. Standardize column names (optional)\n",
        "data.columns = data.columns.str.strip().str.lower().str.replace(' ', '_')\n",
        "\n",
        "# 3. Convert 'date_added' to datetime\n",
        "data['date_added'] = pd.to_datetime(data['date_added'], errors='coerce')\n",
        "\n",
        "# 4. Extract month and year from 'date_added'\n",
        "data['year_added'] = data['date_added'].dt.year\n",
        "data['month_added'] = data['date_added'].dt.month\n",
        "\n",
        "# 5. Fill missing values in categorical columns with 'Unknown'\n",
        "for col in ['director', 'cast', 'country']:\n",
        "    data[col] = data[col].fillna('Unknown')\n",
        "\n",
        "# 6. Handle missing values in 'rating'\n",
        "data['rating'] = data['rating'].fillna('Not Rated')\n",
        "\n",
        "# 7. Standardize 'duration'\n",
        "# Separate 'duration' into 'duration_int' and 'duration_type'\n",
        "data[['duration_int', 'duration_type']] = data['duration'].str.extract(r'(\\d+)\\s*(\\w+)')\n",
        "data['duration_int'] = pd.to_numeric(data['duration_int'], errors='coerce')\n",
        "\n",
        "# 8. Strip whitespace from string fields\n",
        "str_cols = data.select_dtypes(include='object').columns\n",
        "data[str_cols] = data[str_cols].apply(lambda x: x.str.strip())\n",
        "\n",
        "# 9. Drop rows with critical missing values (optional)\n",
        "# e.g., rows where title or show_id is missing\n",
        "data.dropna(subset=['show_id', 'title'], inplace=True)\n",
        "\n",
        "# 10. Reset index\n",
        "data.reset_index(drop=True, inplace=True)\n",
        "\n",
        "# Final check\n",
        "print(\"✅ Data is cleaned and ready for analysis.\")\n",
        "print(data.info())"
      ],
      "metadata": {
        "id": "wk-9a2fpoLcV"
      },
      "execution_count": null,
      "outputs": []
    },
    {
      "cell_type": "markdown",
      "source": [
        "### What all manipulations have you done and insights you found?"
      ],
      "metadata": {
        "id": "MSa1f5Uengrz"
      }
    },
    {
      "cell_type": "markdown",
      "source": [
        "During the data wrangling process, several key manipulations were performed to make the Netflix dataset analysis-ready. Duplicate entries were removed to ensure data consistency, and column names were standardized by converting them to lowercase and replacing spaces with underscores. The date_added column was converted to datetime format, from which the year and month of addition were extracted for trend analysis. Missing values in key categorical columns like director, cast, and country were filled with \"Unknown\", while rating values were completed using \"Not Rated\". The duration column was cleaned by separating it into a numeric part and a type (such as \"minutes\" or \"seasons\"). String columns were also stripped of leading and trailing whitespace, and rows missing critical fields like show_id or title were dropped.\n",
        "\n",
        "From this cleaned dataset, several insights emerged. Movies are more common than TV Shows on Netflix. The majority of content originates from the United States, followed by India and the United Kingdom. Content additions to Netflix increased significantly after 2015, peaking around 2018–2020. Common genres include Dramas, Comedies, and Documentaries, while most movies fall between 90 to 120 minutes in length and TV shows typically have 1 or 2 seasons. A notable portion of records have missing director or cast information, often seen in less mainstream or international content. These findings provide a clear overview of Netflix’s content diversity, trends, and data characteristics.\n",
        "\n"
      ],
      "metadata": {
        "id": "LbyXE7I1olp8"
      }
    },
    {
      "cell_type": "markdown",
      "source": [
        "## ***4. Data Vizualization, Storytelling & Experimenting with charts : Understand the relationships between variables***"
      ],
      "metadata": {
        "id": "GF8Ens_Soomf"
      }
    },
    {
      "cell_type": "markdown",
      "source": [
        "#### Chart - 1"
      ],
      "metadata": {
        "id": "0wOQAZs5pc--"
      }
    },
    {
      "cell_type": "code",
      "source": [
        "# Chart - 1 visualization code\n",
        "# Create a pie chart for Type.\n",
        "colors = ['\t#db0000', '\t#564d4d']\n",
        "labels = ['Tv Show', 'Movie']\n",
        "tv_show = data.type.value_counts()[1]\n",
        "movie = data.type.value_counts()[0]\n",
        "\n",
        "fig = go.Figure(data=[go.Pie(labels=labels, values=[tv_show, movie], hole=.6)])\n",
        "fig.update_layout(\n",
        "    title_text=\"Type of content watched on Netflix\",title_x=0.5, legend=dict(x=0.9),height=500, width=500,\n",
        "    # Add annotations in the center of the donut pies.\n",
        "    annotations=[dict(text='Type of content.', font_size=20, showarrow=False)])\n",
        "fig.update_traces(marker=dict(colors=colors))\n",
        "fig.show()"
      ],
      "metadata": {
        "id": "7v_ESjsspbW7"
      },
      "execution_count": null,
      "outputs": []
    },
    {
      "cell_type": "markdown",
      "source": [
        "##### 1. Why did you pick the specific chart?"
      ],
      "metadata": {
        "id": "K5QZ13OEpz2H"
      }
    },
    {
      "cell_type": "markdown",
      "source": [
        "A pie chart is intuitive and effective for comparing proportions between two categories  in this case, TV Show vs. Movie. The donut shape adds visual clarity and a central annotation space, helping focus on \"type of content\".\n"
      ],
      "metadata": {
        "id": "XESiWehPqBRc"
      }
    },
    {
      "cell_type": "markdown",
      "source": [
        "##### 2. What is/are the insight(s) found from the chart?"
      ],
      "metadata": {
        "id": "lQ7QKXXCp7Bj"
      }
    },
    {
      "cell_type": "markdown",
      "source": [
        "Shows which content type dominates on Netflix.\n",
        "\n",
        "As movies > TV shows, it suggests Netflix invests more in movies, possibly catering to users looking for quick entertainment."
      ],
      "metadata": {
        "id": "C_j1G7yiqdRP"
      }
    },
    {
      "cell_type": "markdown",
      "source": [
        "##### 3. Will the gained insights help creating a positive business impact?\n",
        "Are there any insights that lead to negative growth? Justify with specific reason."
      ],
      "metadata": {
        "id": "448CDAPjqfQr"
      }
    },
    {
      "cell_type": "markdown",
      "source": [
        "Positive Impact:\n",
        "\n",
        "\n",
        "  Helps Netflix understand user preferences to guide content production, from this visual we can get that movies are most preffered by the users.\n",
        "\n",
        "\n",
        "Negative Insight:\n",
        "\n",
        "\n",
        "  As movies dominates too heavily, it might indicate lack of diversity, leading to content fatigue for long-term users."
      ],
      "metadata": {
        "id": "3cspy4FjqxJW"
      }
    },
    {
      "cell_type": "markdown",
      "source": [
        "#### Chart - 2"
      ],
      "metadata": {
        "id": "KSlN3yHqYklG"
      }
    },
    {
      "cell_type": "code",
      "source": [
        "# Chart - 2 visualization code\n",
        "#Analysis on rating based on overall movie show rating system\n",
        "movies_ratings = data.groupby(['rating'])['show_id'].count().reset_index(name='count').sort_values(by='count',ascending=False)\n",
        "fig_dims = (8,5)\n",
        "fig, ax = plt.subplots(figsize=fig_dims)\n",
        "sns.pointplot(x='rating',y='count',data=movies_ratings)\n",
        "plt.title('ANALYSIS ON MOVIE SHOW RATINGS', fontsize=15, fontweight='bold')\n",
        "plt.show()"
      ],
      "metadata": {
        "id": "R4YgtaqtYklH"
      },
      "execution_count": null,
      "outputs": []
    },
    {
      "cell_type": "markdown",
      "source": [
        "##### 1. Why did you pick the specific chart?"
      ],
      "metadata": {
        "id": "t6dVpIINYklI"
      }
    },
    {
      "cell_type": "markdown",
      "source": [
        "The point plot is effective for showing the distribution of content across different rating categories (e.g., TV-MA, TV-14, PG). It gives a clear view of trends and is cleaner than bar plots when focusing on category rankings with fewer visual distractions.\n",
        "\n"
      ],
      "metadata": {
        "id": "5aaW0BYyYklI"
      }
    },
    {
      "cell_type": "markdown",
      "source": [
        "##### 2. What is/are the insight(s) found from the chart?"
      ],
      "metadata": {
        "id": "ijmpgYnKYklI"
      }
    },
    {
      "cell_type": "markdown",
      "source": [
        "Most common rating on Netflix are TV-MA, TV-14.\n",
        "\n",
        "Indicates the target audience age group  more mature content  TV-MA dominates."
      ],
      "metadata": {
        "id": "PSx9atu2YklI"
      }
    },
    {
      "cell_type": "markdown",
      "source": [
        "##### 3. Will the gained insights help creating a positive business impact?\n",
        "Are there any insights that lead to negative growth? Justify with specific reason."
      ],
      "metadata": {
        "id": "-JiQyfWJYklI"
      }
    },
    {
      "cell_type": "markdown",
      "source": [
        "Positive Business Impact:\n",
        "\n",
        "\n",
        "Helps content and legal teams ensure appropriate age-rated content dominates, enhancing regional compliance and user trust.\n",
        "\n",
        "Negative Insight:\n",
        "\n",
        "\n",
        "If most content falls in a narrow rating range, it could lead to audience segmentation issues."
      ],
      "metadata": {
        "id": "BcBbebzrYklV"
      }
    },
    {
      "cell_type": "markdown",
      "source": [
        "#### Chart - 3"
      ],
      "metadata": {
        "id": "EM7whBJCYoAo"
      }
    },
    {
      "cell_type": "code",
      "source": [
        "# Chart - 3 visualization code\n",
        "plt.figure(figsize=(12, 6))\n",
        "sns.countplot(data=data, x='rating', hue='type', order=data['rating'].value_counts().index)\n",
        "plt.title('Content Type by Rating', fontsize=16, fontweight='bold')\n",
        "plt.xlabel('Rating')\n",
        "plt.ylabel('Count')\n",
        "plt.xticks(rotation=45)\n",
        "plt.legend(title='Type')\n",
        "plt.tight_layout()\n",
        "plt.show()"
      ],
      "metadata": {
        "id": "t6GMdE67YoAp"
      },
      "execution_count": null,
      "outputs": []
    },
    {
      "cell_type": "markdown",
      "source": [
        "##### 1. Why did you pick the specific chart?"
      ],
      "metadata": {
        "id": "fge-S5ZAYoAp"
      }
    },
    {
      "cell_type": "markdown",
      "source": [
        "This chart is ideal for comparing multiple categorical variables  rating and type. It helps visualize how content types  are distributed across different rating levels, making it easier to spot patterns in age-appropriateness and content targeting strategies."
      ],
      "metadata": {
        "id": "5dBItgRVYoAp"
      }
    },
    {
      "cell_type": "markdown",
      "source": [
        "##### 2. What is/are the insight(s) found from the chart?"
      ],
      "metadata": {
        "id": "85gYPyotYoAp"
      }
    },
    {
      "cell_type": "markdown",
      "source": [
        "You can observe which ratings are more associated with TV Shows vs. Movies.\n",
        "It reveals content strategy trends by age groups and format. TV-MA ratingtype combinations are overrepresented."
      ],
      "metadata": {
        "id": "4jstXR6OYoAp"
      }
    },
    {
      "cell_type": "markdown",
      "source": [
        "##### 3. Will the gained insights help creating a positive business impact?\n",
        "Are there any insights that lead to negative growth? Justify with specific reason."
      ],
      "metadata": {
        "id": "RoGjAbkUYoAp"
      }
    },
    {
      "cell_type": "markdown",
      "source": [
        "Positive Impact:\n",
        "\n",
        "\n",
        "Guides content acquisition and production by identifying which rating–type combinations are over/underrepresented.\n",
        "\n",
        " Negative Insight:\n",
        "\n",
        "\n",
        "The chart shows an imbalance, like too many mature-rated shows and few family-friendly ones, it indicates potential alienation of younger audiences or families."
      ],
      "metadata": {
        "id": "zfJ8IqMcYoAp"
      }
    },
    {
      "cell_type": "markdown",
      "source": [
        "#### Chart - 4"
      ],
      "metadata": {
        "id": "4Of9eVA-YrdM"
      }
    },
    {
      "cell_type": "code",
      "source": [
        "# Chart - 4 visualization code\n",
        "#Analysis on release year of movie show\n",
        "movies = data[data['type'] == 'Movie']\n",
        "\n",
        "plt.figure(figsize=(8, 5))\n",
        "sns.countplot(\n",
        "    y=\"release_year\",\n",
        "    data=movies,\n",
        "    palette=\"BrBG\",\n",
        "    order=movies['release_year'].value_counts().index[:15]\n",
        ")\n",
        "plt.title('ANALYSIS ON RELEASE YEAR OF MOVIES', fontsize=15, fontweight='bold')\n",
        "plt.xlabel(\"Number of Movies\")\n",
        "plt.ylabel(\"Release Year\")\n",
        "plt.tight_layout()\n",
        "plt.show()"
      ],
      "metadata": {
        "id": "irlUoxc8YrdO"
      },
      "execution_count": null,
      "outputs": []
    },
    {
      "cell_type": "markdown",
      "source": [
        "##### 1. Why did you pick the specific chart?"
      ],
      "metadata": {
        "id": "iky9q4vBYrdO"
      }
    },
    {
      "cell_type": "markdown",
      "source": [
        "This chart is effective for showing the number of movies released per year, particularly focusing on the top 15 most frequent release years. It helps identify trends in content sourcing by Netflix – whether it favors recent content or classic titles."
      ],
      "metadata": {
        "id": "aJRCwT6DYrdO"
      }
    },
    {
      "cell_type": "markdown",
      "source": [
        "##### 2. What is/are the insight(s) found from the chart?"
      ],
      "metadata": {
        "id": "F6T5p64dYrdO"
      }
    },
    {
      "cell_type": "markdown",
      "source": [
        "Shows which years contribute most to Netflix's movie catalog.It shows in which year netflix has purchased more movies."
      ],
      "metadata": {
        "id": "Xx8WAJvtYrdO"
      }
    },
    {
      "cell_type": "markdown",
      "source": [
        "##### 3. Will the gained insights help creating a positive business impact?\n",
        "Are there any insights that lead to negative growth? Justify with specific reason."
      ],
      "metadata": {
        "id": "y-Ehk30pYrdP"
      }
    },
    {
      "cell_type": "markdown",
      "source": [
        "Positive Business Impact:\n",
        "\n",
        "As recent years dominate, it shows Netflix is keeping content fresh and relevant.\n",
        "\n",
        "\n",
        " Negative Insight:\n",
        "\n",
        "\n",
        "Lack of older or timeless content can alienate audiences seeking nostalgia or specific eras."
      ],
      "metadata": {
        "id": "jLNxxz7MYrdP"
      }
    },
    {
      "cell_type": "markdown",
      "source": [
        "#### Chart - 5"
      ],
      "metadata": {
        "id": "bamQiAODYuh1"
      }
    },
    {
      "cell_type": "code",
      "source": [
        "# Chart - 5 visualization code\n",
        "# Step 1: Handle missing country values\n",
        "data['country'] = data['country'].fillna('Unknown')\n",
        "\n",
        "# Step 2: Split multiple countries, explode into separate rows\n",
        "country_split = data['country'].str.split(', ')\n",
        "country_exploded = data.loc[data.index.repeat(country_split.str.len())].copy()\n",
        "country_exploded['country'] = [item for sublist in country_split for item in sublist]\n",
        "\n",
        "# Step 3: Group by country and type (Movie / TV Show)\n",
        "country_type_counts = country_exploded.groupby(['country', 'type']).size().reset_index(name='count')\n",
        "\n",
        "# Step 4: Filter top 10 countries by total content\n",
        "top_countries = country_type_counts.groupby('country')['count'].sum().nlargest(10).index\n",
        "filtered_df = country_type_counts[country_type_counts['country'].isin(top_countries)]\n",
        "\n",
        "# Step 5: Plot grouped bar chart\n",
        "plt.figure(figsize=(12, 6))\n",
        "sns.barplot(data=filtered_df, x='country', y='count', hue='type', palette='Set2')\n",
        "plt.title(\"📊 Top 10 Countries by Content Type (Movies vs TV Shows)\", fontsize=14)\n",
        "plt.xlabel(\"Country\")\n",
        "plt.ylabel(\"Number of Titles\")\n",
        "plt.xticks(rotation=45)\n",
        "plt.tight_layout()\n",
        "plt.show()\n"
      ],
      "metadata": {
        "id": "TIJwrbroYuh3"
      },
      "execution_count": null,
      "outputs": []
    },
    {
      "cell_type": "markdown",
      "source": [
        "##### 1. Why did you pick the specific chart?"
      ],
      "metadata": {
        "id": "QHF8YVU7Yuh3"
      }
    },
    {
      "cell_type": "markdown",
      "source": [
        "A grouped bar chart was chosen because it clearly compares the distribution of  Movie vs TV Show across different country. This format effectively illustrates how different countries contribute to each content type, allowing direct visual comparison between them side-by-side."
      ],
      "metadata": {
        "id": "dcxuIMRPYuh3"
      }
    },
    {
      "cell_type": "markdown",
      "source": [
        "##### 2. What is/are the insight(s) found from the chart?"
      ],
      "metadata": {
        "id": "GwzvFGzlYuh3"
      }
    },
    {
      "cell_type": "markdown",
      "source": [
        "The United States dominates both categories with a significantly higher number of Movies and TV Shows compared to other countries.\n",
        "\n",
        "India and the United Kingdom contribute heavily to movies, with a relatively lower number of TV shows.\n",
        "\n",
        "Canada and France lean slightly more toward TV Shows."
      ],
      "metadata": {
        "id": "uyqkiB8YYuh3"
      }
    },
    {
      "cell_type": "markdown",
      "source": [
        "##### 3. Will the gained insights help creating a positive business impact?\n",
        "Are there any insights that lead to negative growth? Justify with specific reason."
      ],
      "metadata": {
        "id": "qYpmQ266Yuh3"
      }
    },
    {
      "cell_type": "markdown",
      "source": [
        "positive insights:\n",
        "\n",
        "Understanding country-wise strengths allows Netflix to better personalize recommendations for viewers from those countries.\n",
        "\n",
        "negative insights:\n",
        "\n",
        "Underrepresentation of regions (e.g., African or Southeast Asian countries not in the top 10) signals untapped content opportunities. Ignoring these may lead to missed growth in emerging markets."
      ],
      "metadata": {
        "id": "_WtzZ_hCYuh4"
      }
    },
    {
      "cell_type": "markdown",
      "source": [
        "#### Chart - 6"
      ],
      "metadata": {
        "id": "OH-pJp9IphqM"
      }
    },
    {
      "cell_type": "code",
      "source": [
        "# Chart - 6 visualization code\n",
        "# Step 1: Filter only Movies\n",
        "movie_data = data[data['type'] == 'Movie'].copy()\n",
        "\n",
        "# Step 2: Clean and convert 'duration' to numeric minutes\n",
        "# Remove \"min\" text and convert to int\n",
        "movie_data['duration'] = movie_data['duration'].str.replace('min', '').str.strip()\n",
        "movie_data = movie_data[movie_data['duration'].str.isnumeric()]\n",
        "movie_data['duration'] = movie_data['duration'].astype(int)\n",
        "\n",
        "# Step 3: Plot histogram with KDE\n",
        "plt.figure(figsize=(10, 6))\n",
        "sns.histplot(movie_data['duration'], bins=30, kde=True, color='skyblue', edgecolor='black')\n",
        "plt.title(\"⏱️ Distribution of Movie Duration (in Minutes)\", fontsize=14)\n",
        "plt.xlabel(\"Duration (minutes)\")\n",
        "plt.ylabel(\"Number of Movies\")\n",
        "plt.tight_layout()\n",
        "plt.show()"
      ],
      "metadata": {
        "id": "kuRf4wtuphqN"
      },
      "execution_count": null,
      "outputs": []
    },
    {
      "cell_type": "markdown",
      "source": [
        "##### 1. Why did you pick the specific chart?"
      ],
      "metadata": {
        "id": "bbFf2-_FphqN"
      }
    },
    {
      "cell_type": "markdown",
      "source": [
        "A histogram effectively shows the frequency of movies within different duration ranges.\n",
        "\n",
        "The KDE curve provides a smoothed estimation of the distribution shape, helping to identify central tendencies and any skewness in the data."
      ],
      "metadata": {
        "id": "loh7H2nzphqN"
      }
    },
    {
      "cell_type": "markdown",
      "source": [
        "##### 2. What is/are the insight(s) found from the chart?"
      ],
      "metadata": {
        "id": "_ouA3fa0phqN"
      }
    },
    {
      "cell_type": "markdown",
      "source": [
        "Most movies tend to cluster around 90 to 120 minutes, which aligns with standard feature film durations.\n",
        "\n",
        "There may be a sharp drop-off in frequency for movies over 150 minutes, indicating that longer films are relatively rare."
      ],
      "metadata": {
        "id": "VECbqPI7phqN"
      }
    },
    {
      "cell_type": "markdown",
      "source": [
        "##### 3. Will the gained insights help creating a positive business impact?\n",
        "Are there any insights that lead to negative growth? Justify with specific reason."
      ],
      "metadata": {
        "id": "Seke61FWphqN"
      }
    },
    {
      "cell_type": "markdown",
      "source": [
        "Positive Business Impact:\n",
        "\n",
        "Users are more likely to finish and rate movies within a comfortable watch time\n",
        "\n",
        "Negative Insight:\n",
        "\n",
        "If a significant number of movies are found to be too long or too short compared to user preference, lead to Decreased engagement"
      ],
      "metadata": {
        "id": "DW4_bGpfphqN"
      }
    },
    {
      "cell_type": "markdown",
      "source": [
        "#### Chart - 7"
      ],
      "metadata": {
        "id": "PIIx-8_IphqN"
      }
    },
    {
      "cell_type": "code",
      "source": [
        "data['year'] = pd.to_datetime(data['release_year'], format='%Y')\n",
        "data.groupby(['year', 'type']).size().unstack().plot(kind='area', stacked=True)"
      ],
      "metadata": {
        "id": "lqAIGUfyphqO"
      },
      "execution_count": null,
      "outputs": []
    },
    {
      "cell_type": "markdown",
      "source": [
        "##### 1. Why did you pick the specific chart?"
      ],
      "metadata": {
        "id": "t27r6nlMphqO"
      }
    },
    {
      "cell_type": "markdown",
      "source": [
        "The stacked nature allows you to see both the individual trend of each type and the total volume over the years.\n",
        "\n",
        "It provides a clear picture of how content production or addition has evolved on Netflix across years, highlighting growth patterns and category distribution."
      ],
      "metadata": {
        "id": "iv6ro40sphqO"
      }
    },
    {
      "cell_type": "markdown",
      "source": [
        "##### 2. What is/are the insight(s) found from the chart?"
      ],
      "metadata": {
        "id": "r2jJGEOYphqO"
      }
    },
    {
      "cell_type": "markdown",
      "source": [
        "Sharp growth in both Movies and TV Shows from around 2015 onwards, reflecting Netflix’s aggressive content expansion strategy.\n",
        "\n",
        "Movies may dominate early years, while TV Shows show significant growth in more recent years, possibly due to the binge-watching trend."
      ],
      "metadata": {
        "id": "Po6ZPi4hphqO"
      }
    },
    {
      "cell_type": "markdown",
      "source": [
        "##### 3. Will the gained insights help creating a positive business impact?\n",
        "Are there any insights that lead to negative growth? Justify with specific reason."
      ],
      "metadata": {
        "id": "b0JNsNcRphqO"
      }
    },
    {
      "cell_type": "markdown",
      "source": [
        " Positive Business Impact:\n",
        "\n",
        " Subscriber Retention: Continuous content growth, especially in user-preferred formats, leads to higher engagement and retention.\n",
        "\n",
        " Negative Growth :\n",
        "\n",
        " Overloading one category while neglecting the other can alienate certain viewer segments."
      ],
      "metadata": {
        "id": "xvSq8iUTphqO"
      }
    },
    {
      "cell_type": "markdown",
      "source": [
        "#### Chart - 8"
      ],
      "metadata": {
        "id": "BZR9WyysphqO"
      }
    },
    {
      "cell_type": "code",
      "source": [
        "# Chart - 8 visualization code\n",
        "# Create a copy to avoid modifying the original data\n",
        "df = data.copy()\n",
        "\n",
        "# Filter only Movies\n",
        "df = df[df['type'] == 'Movie']\n",
        "\n",
        "# Clean the 'duration' column by removing 'min' and converting to integer\n",
        "df['duration'] = df['duration'].str.replace('min', '').str.strip()\n",
        "df = df[df['duration'].str.isnumeric()]  # Remove any non-numeric durations\n",
        "df['duration'] = df['duration'].astype(int)\n",
        "fig = px.treemap(df, path=['country', 'type'], values='duration',\n",
        "                 color='duration', color_continuous_scale='RdBu')\n",
        "fig.update_layout(title='Treemap of Movie Duration by Country and Type')\n",
        "fig.show()"
      ],
      "metadata": {
        "id": "TdPTWpAVphqO"
      },
      "execution_count": null,
      "outputs": []
    },
    {
      "cell_type": "markdown",
      "source": [
        "##### 1. Why did you pick the specific chart?"
      ],
      "metadata": {
        "id": "jj7wYXLtphqO"
      }
    },
    {
      "cell_type": "markdown",
      "source": [
        "It allows comparison of total movie duration contributed by different countries, grouped under the \"Movie\" type.\n",
        "\n",
        "Treemaps are effective for visualizing relative size and distribution in a nested structure, making it easy to identify which countries contribute more or less content in terms of total duration."
      ],
      "metadata": {
        "id": "Ob8u6rCTphqO"
      }
    },
    {
      "cell_type": "markdown",
      "source": [
        "##### 2. What is/are the insight(s) found from the chart?"
      ],
      "metadata": {
        "id": "eZrbJ2SmphqO"
      }
    },
    {
      "cell_type": "markdown",
      "source": [
        "Countries with smaller boxes have relatively less content or shorter-duration films on Netflix.\n",
        "\n",
        "The color intensity may show that some countries tend to have longer average durations (darker color), while others produce shorter content."
      ],
      "metadata": {
        "id": "mZtgC_hjphqO"
      }
    },
    {
      "cell_type": "markdown",
      "source": [
        "##### 3. Will the gained insights help creating a positive business impact?\n",
        "Are there any insights that lead to negative growth? Justify with specific reason."
      ],
      "metadata": {
        "id": "rFu4xreNphqO"
      }
    },
    {
      "cell_type": "markdown",
      "source": [
        "Positive Business Impact:\n",
        "\n",
        "Content Localization: If countries with shorter durations have high engagement, Netflix can consider producing shorter-form content for global appeal.\n",
        "\n",
        "Negative Insight:\n",
        "\n",
        "Content imbalance: If some countries are underrepresented, it may signal missed opportunities for localization and market penetration."
      ],
      "metadata": {
        "id": "ey_0qi68phqO"
      }
    },
    {
      "cell_type": "markdown",
      "source": [
        "#### Chart - 9"
      ],
      "metadata": {
        "id": "YJ55k-q6phqO"
      }
    },
    {
      "cell_type": "code",
      "source": [
        "df = data.copy()\n",
        "\n",
        "# Filter only Movies\n",
        "df = df[df['type'] == 'Movie']\n",
        "\n",
        "# Clean 'duration'\n",
        "df['duration'] = df['duration'].str.replace('min', '').str.strip()\n",
        "df = df[df['duration'].str.isnumeric()]\n",
        "df['duration'] = df['duration'].astype(int)\n",
        "\n",
        "# Convert 'rating' to a numeric scale (e.g., replace string labels with numbers)\n",
        "rating_map = {\n",
        "    'G': 1, 'TV-Y': 1, 'TV-G': 1,\n",
        "    'PG': 2, 'TV-Y7': 2,\n",
        "    'PG-13': 3, 'TV-PG': 3,\n",
        "    'R': 4, 'TV-14': 4,\n",
        "    'NC-17': 5, 'TV-MA': 5\n",
        "}\n",
        "df['rating_num'] = df['rating'].map(rating_map)\n",
        "df = df.dropna(subset=['rating_num'])  # Drop rows with unknown ratings\n",
        "# Plot Bubble Chart\n",
        "fig = px.scatter(df, x='release_year', y='duration',\n",
        "                 size='rating_num', color='rating',\n",
        "                 hover_name='title', title=\"Movie Duration vs Release Year Bubble Chart\")\n",
        "fig.show()"
      ],
      "metadata": {
        "id": "B2aS4O1ophqO"
      },
      "execution_count": null,
      "outputs": []
    },
    {
      "cell_type": "markdown",
      "source": [
        "##### 1. Why did you pick the specific chart?"
      ],
      "metadata": {
        "id": "gCFgpxoyphqP"
      }
    },
    {
      "cell_type": "markdown",
      "source": [
        " bubble chart was chosen because it allows visualization of three key variables at once:\n",
        "\n",
        "X-axis: release_year – showing the timeline of movie releases.\n",
        "\n",
        "Y-axis: duration – visualizing how long movies are.\n",
        "\n",
        "Bubble size & color: Representing content rating (via rating_num), which reflects the target audience age group or maturity level."
      ],
      "metadata": {
        "id": "TVxDimi2phqP"
      }
    },
    {
      "cell_type": "markdown",
      "source": [
        "##### 2. What is/are the insight(s) found from the chart?"
      ],
      "metadata": {
        "id": "OVtJsKN_phqQ"
      }
    },
    {
      "cell_type": "markdown",
      "source": [
        "No strong correlation between release year and duration — movies of various lengths have been produced in all years.\n",
        "\n",
        "Larger bubbles (more mature ratings) may appear more frequently in certain periods, showing a shift in content strategy toward more adult-oriented content (e.g., TV-MA, R)."
      ],
      "metadata": {
        "id": "ngGi97qjphqQ"
      }
    },
    {
      "cell_type": "markdown",
      "source": [
        "##### 3. Will the gained insights help creating a positive business impact?\n",
        "Are there any insights that lead to negative growth? Justify with specific reason."
      ],
      "metadata": {
        "id": "lssrdh5qphqQ"
      }
    },
    {
      "cell_type": "markdown",
      "source": [
        "Positive Business Impact:\n",
        "\n",
        "Trend Forecasting: If adult-rated content has been growing in popularity, Netflix can strategically invest in more mature storylines to boost engagement.\n",
        "\n",
        "Negative Growth Indicators:\n",
        "\n",
        "Very long movies with mature ratings may suffer from"
      ],
      "metadata": {
        "id": "tBpY5ekJphqQ"
      }
    },
    {
      "cell_type": "markdown",
      "source": [
        "#### Chart - 10"
      ],
      "metadata": {
        "id": "U2RJ9gkRphqQ"
      }
    },
    {
      "cell_type": "code",
      "source": [
        "fig = px.choropleth(data_frame=data, locations='country', locationmode='country names',\n",
        "                    color='duration', hover_name='country')\n",
        "fig.show()\n"
      ],
      "metadata": {
        "id": "GM7a4YP4phqQ"
      },
      "execution_count": null,
      "outputs": []
    },
    {
      "cell_type": "markdown",
      "source": [
        "##### 1. Why did you pick the specific chart?"
      ],
      "metadata": {
        "id": "1M8mcRywphqQ"
      }
    },
    {
      "cell_type": "markdown",
      "source": [
        "It helps to show how average or total movie duration varies by country, using color gradients for quick visual interpretation.\n",
        "\n",
        "This chart is ideal for identifying regional patterns in movie content characteristics, such as length.\n",
        "\n"
      ],
      "metadata": {
        "id": "8agQvks0phqQ"
      }
    },
    {
      "cell_type": "markdown",
      "source": [
        "##### 2. What is/are the insight(s) found from the chart?"
      ],
      "metadata": {
        "id": "tgIPom80phqQ"
      }
    },
    {
      "cell_type": "markdown",
      "source": [
        "Some countries may have higher average movie durations, indicated by darker shades.\n",
        "\n",
        "Other countries may appear with lighter shades, indicating shorter durations or less content.\n",
        "\n",
        "Countries not represented (missing color) might lack content or metadata, which could indicate underserved regions."
      ],
      "metadata": {
        "id": "Qp13pnNzphqQ"
      }
    },
    {
      "cell_type": "markdown",
      "source": [
        "##### 3. Will the gained insights help creating a positive business impact?\n",
        "Are there any insights that lead to negative growth? Justify with specific reason."
      ],
      "metadata": {
        "id": "JMzcOPDDphqR"
      }
    },
    {
      "cell_type": "markdown",
      "source": [
        " Positive Business Impact:\n",
        "\n",
        " Market Expansion: Identifying countries with little or no long-duration content helps Netflix explore new production or licensing opportunities.\n",
        "\n",
        " Negative Growth Indicators:\n",
        "\n",
        " Countries with little or no data could indicate limited content availability, which might lead to user churn in those regions if not addressed."
      ],
      "metadata": {
        "id": "R4Ka1PC2phqR"
      }
    },
    {
      "cell_type": "markdown",
      "source": [
        "#### Chart - 11"
      ],
      "metadata": {
        "id": "x-EpHcCOp1ci"
      }
    },
    {
      "cell_type": "code",
      "source": [
        "# Chart - 11 visualization code\n",
        "df = data.copy()\n",
        "\n",
        "# Drop missing titles\n",
        "df = df.dropna(subset=['title'])\n",
        "\n",
        "# Combine all titles into one string\n",
        "text = ' '.join(df['title'])\n",
        "\n",
        "# Define stopwords\n",
        "stopwords = set(STOPWORDS)\n",
        "stopwords.update(['The', 'A', 'Of', 'And'])  # Add common irrelevant words\n",
        "\n",
        "# Generate word cloud\n",
        "wordcloud = WordCloud(width=1200, height=600, background_color='white',\n",
        "                      stopwords=stopwords, colormap='Reds').generate(text)\n",
        "\n",
        "# Plot\n",
        "plt.figure(figsize=(14, 7))\n",
        "plt.imshow(wordcloud, interpolation='bilinear')\n",
        "plt.axis('off')\n",
        "plt.title('🎬 Most Common Words in Netflix Titles', fontsize=18)\n",
        "plt.show()"
      ],
      "metadata": {
        "id": "mAQTIvtqp1cj"
      },
      "execution_count": null,
      "outputs": []
    },
    {
      "cell_type": "markdown",
      "source": [
        "##### 1. Why did you pick the specific chart?"
      ],
      "metadata": {
        "id": "X_VqEhTip1ck"
      }
    },
    {
      "cell_type": "markdown",
      "source": [
        "The word cloud chart is chosen because it visually highlights the most frequently used words in Netflix titles. It is a quick, intuitive way to analyze large text data and identify popular themes or naming patterns in the content catalog"
      ],
      "metadata": {
        "id": "-vsMzt_np1ck"
      }
    },
    {
      "cell_type": "markdown",
      "source": [
        "##### 2. What is/are the insight(s) found from the chart?"
      ],
      "metadata": {
        "id": "8zGJKyg5p1ck"
      }
    },
    {
      "cell_type": "markdown",
      "source": [
        "We observe recurring words like \"Love\", \"Life\", \"Story\", \"Dead\", \"World\", etc.\n",
        "\n",
        "Themes related to emotion, mystery, relationships, action, and drama seem dominant.\n",
        "\n",
        "Words like \"Season\" or \"Part\" may indicate series-based content, revealing a trend toward episodic storytelling"
      ],
      "metadata": {
        "id": "ZYdMsrqVp1ck"
      }
    },
    {
      "cell_type": "markdown",
      "source": [
        "##### 3. Will the gained insights help creating a positive business impact?\n",
        "Are there any insights that lead to negative growth? Justify with specific reason."
      ],
      "metadata": {
        "id": "PVzmfK_Ep1ck"
      }
    },
    {
      "cell_type": "markdown",
      "source": [
        "positively impact business:\n",
        "\n",
        "Content Strategy: Understanding which words/themes appear most often can guide content creators and marketers to align with audience preferences. For instance, increasing shows around “Love”, “Story”, or “Life” could capture emotionally driven viewers."
      ],
      "metadata": {
        "id": "druuKYZpp1ck"
      }
    },
    {
      "cell_type": "markdown",
      "source": [
        "#### Chart - 12"
      ],
      "metadata": {
        "id": "n3dbpmDWp1ck"
      }
    },
    {
      "cell_type": "code",
      "source": [
        "import plotly.express as px\n",
        "\n",
        "df = data.copy()\n",
        "\n",
        "# Filter only Movies\n",
        "df = df[df['type'] == 'Movie']\n",
        "\n",
        "# Clean 'duration'\n",
        "df['duration'] = df['duration'].str.replace('min', '').str.strip()\n",
        "df = df[df['duration'].str.isnumeric()]\n",
        "df['duration'] = df['duration'].astype(int)\n",
        "\n",
        "# Drop missing country values\n",
        "df = df.dropna(subset=['country'])\n",
        "\n",
        "# Plot Sunburst Chart\n",
        "fig = px.sunburst(df, path=['country', 'type'], values='duration',\n",
        "                  color='duration', color_continuous_scale='Viridis',\n",
        "                  title='Sunburst Chart: Movie Duration by Country and Type')\n",
        "fig.show()"
      ],
      "metadata": {
        "id": "bwevp1tKp1ck"
      },
      "execution_count": null,
      "outputs": []
    },
    {
      "cell_type": "markdown",
      "source": [
        "##### 1. Why did you pick the specific chart?"
      ],
      "metadata": {
        "id": "ylSl6qgtp1ck"
      }
    },
    {
      "cell_type": "markdown",
      "source": [
        "It highlights relative contribution of each country to the total movie duration, in a compact and interactive format.\n",
        "\n",
        "It allows users to drill down through multiple levels (e.g., from country → type) to gain layered insights."
      ],
      "metadata": {
        "id": "m2xqNkiQp1ck"
      }
    },
    {
      "cell_type": "markdown",
      "source": [
        "##### 2. What is/are the insight(s) found from the chart?"
      ],
      "metadata": {
        "id": "ZWILFDl5p1ck"
      }
    },
    {
      "cell_type": "markdown",
      "source": [
        "Countries like the United States, India, or UK likely contribute the highest total movie durations, appearing as larger segments.\n",
        "\n",
        "Countries with smaller segments may indicate limited content or shorter movies."
      ],
      "metadata": {
        "id": "x-lUsV2mp1ck"
      }
    },
    {
      "cell_type": "markdown",
      "source": [
        "##### 3. Will the gained insights help creating a positive business impact?\n",
        "Are there any insights that lead to negative growth? Justify with specific reason."
      ],
      "metadata": {
        "id": "M7G43BXep1ck"
      }
    },
    {
      "cell_type": "markdown",
      "source": [
        "Positive Business Impact:\n",
        "\n",
        "\n",
        "Content Planning: Netflix can use this to allocate production resources based on where most content is coming from or where there's a gap.\n",
        "\n",
        "Negative Growth Indicators:\n",
        "\n",
        "Very small segments from certain regions might highlight neglected markets or data quality issues, leading to missed opportunities."
      ],
      "metadata": {
        "id": "5wwDJXsLp1cl"
      }
    },
    {
      "cell_type": "markdown",
      "source": [
        "#### Chart - 13"
      ],
      "metadata": {
        "id": "Ag9LCva-p1cl"
      }
    },
    {
      "cell_type": "code",
      "source": [
        "# Step 1: Extract month name from 'date_added'\n",
        "df = data.copy()\n",
        "df['date_added'] = pd.to_datetime(df['date_added'], errors='coerce')\n",
        "df['month'] = df['date_added'].dt.month_name()\n",
        "\n",
        "# Step 2: Count the occurrences of each month\n",
        "months_df = df['month'].value_counts().reindex([\n",
        "    'January', 'February', 'March', 'April', 'May', 'June',\n",
        "    'July', 'August', 'September', 'October', 'November', 'December'\n",
        "]).reset_index()\n",
        "\n",
        "months_df.columns = ['month', 'count']\n",
        "\n",
        "# Step 3: Plot the bar chart\n",
        "fig = px.bar(months_df, x=\"month\", y=\"count\", text_auto=True,\n",
        "             color='count', color_continuous_scale=['#db0000', '#564d4d'])\n",
        "\n",
        "fig.update_layout(\n",
        "    title={\n",
        "        'text': 'Month-wise Addition of Movies and TV Shows to the Platform',\n",
        "        'y': 0.95,\n",
        "        'x': 0.5,\n",
        "        'xanchor': 'center',\n",
        "        'yanchor': 'top'\n",
        "    },\n",
        "    autosize=False,\n",
        "    width=1000,\n",
        "    height=500\n",
        ")\n",
        "\n",
        "fig.show()\n"
      ],
      "metadata": {
        "id": "EUfxeq9-p1cl"
      },
      "execution_count": null,
      "outputs": []
    },
    {
      "cell_type": "markdown",
      "source": [
        "##### 1. Why did you pick the specific chart?"
      ],
      "metadata": {
        "id": "E6MkPsBcp1cl"
      }
    },
    {
      "cell_type": "markdown",
      "source": [
        "A bar chart was selected because:\n",
        "\n",
        "It clearly displays categorical data (months) along the x-axis and numerical values (number of additions) on the y-axis.The color gradient enhances visual interpretation of months with higher or lower content activity."
      ],
      "metadata": {
        "id": "V22bRsFWp1cl"
      }
    },
    {
      "cell_type": "markdown",
      "source": [
        "##### 2. What is/are the insight(s) found from the chart?"
      ],
      "metadata": {
        "id": "2cELzS2fp1cl"
      }
    },
    {
      "cell_type": "markdown",
      "source": [
        "Certain months (e.g., December, July, October) may show higher additions, possibly aligned with holiday seasons or major release periods.\n",
        "\n",
        "The pattern could suggest that Netflix follows a content push strategy during specific months to boost engagement or subscriber growth."
      ],
      "metadata": {
        "id": "ozQPc2_Ip1cl"
      }
    },
    {
      "cell_type": "markdown",
      "source": [
        "##### 3. Will the gained insights help creating a positive business impact?\n",
        "Are there any insights that lead to negative growth? Justify with specific reason."
      ],
      "metadata": {
        "id": "3MPXvC8up1cl"
      }
    },
    {
      "cell_type": "markdown",
      "source": [
        " Positive Business Impact:\n",
        "\n",
        "\n",
        "Release Strategy Optimization: Knowing which months historically see the most content additions can help plan marketing campaigns and new releases more strategically.\n",
        "\n",
        " Negative Growth Indicators:\n",
        "\n",
        "\n",
        "If content drops are heavily clustered in a few months, users may experience content drought in off-peak periods, reducing engagement and increasing churn."
      ],
      "metadata": {
        "id": "GL8l1tdLp1cl"
      }
    },
    {
      "cell_type": "markdown",
      "source": [
        "#### Chart - 14 - Correlation Heatmap"
      ],
      "metadata": {
        "id": "NC_X3p0fY2L0"
      }
    },
    {
      "cell_type": "code",
      "source": [
        "import pandas as pd\n",
        "import seaborn as sns\n",
        "import matplotlib.pyplot as plt\n",
        "\n",
        "# Copy the dataset\n",
        "df = data.copy()\n",
        "\n",
        "# Fill missing ratings if any\n",
        "df['rating'] = df['rating'].fillna('Unknown')\n",
        "\n",
        "# Create target_ages column based on rating\n",
        "def classify_age(rating):\n",
        "    if rating in ['TV-MA', 'R', 'NC-17']:\n",
        "        return 'Adults'\n",
        "    elif rating in ['TV-14', 'PG-13']:\n",
        "        return 'Teens'\n",
        "    elif rating in ['TV-PG', 'PG']:\n",
        "        return 'Older Kids'\n",
        "    elif rating in ['TV-Y', 'TV-Y7', 'G']:\n",
        "        return 'Kids'\n",
        "    else:\n",
        "        return 'Unknown'\n",
        "\n",
        "df['target_ages'] = df['rating'].apply(classify_age)\n",
        "\n",
        "# Count entries\n",
        "df['count'] = 1\n",
        "\n",
        "# Group by country to get top 10\n",
        "top_countries = df.groupby('country')['count'].sum().sort_values(ascending=False).head(10).index\n",
        "\n",
        "# Filter dataset for top countries\n",
        "df_heatmap = df[df['country'].isin(top_countries)]\n",
        "\n",
        "# Create crosstab of target_ages vs country\n",
        "heatmap_data = pd.crosstab(df_heatmap['target_ages'], df_heatmap['country'], normalize='columns')\n",
        "\n",
        "# Order\n",
        "age_order = ['Adults', 'Teens', 'Older Kids', 'Kids']\n",
        "country_order = ['United States', 'India', 'United Kingdom', 'Canada', 'Japan', 'France', 'South Korea', 'Spain']\n",
        "country_order = [c for c in country_order if c in heatmap_data.columns]\n",
        "age_order = [a for a in age_order if a in heatmap_data.index]\n",
        "\n",
        "# Plot heatmap\n",
        "plt.figure(figsize=(12, 8))\n",
        "sns.heatmap(heatmap_data.loc[age_order, country_order],\n",
        "            cmap=\"BrBG\", square=True, linewidth=2.5, cbar=False,\n",
        "            annot=True, fmt='.0%', vmax=0.6, vmin=0.05, annot_kws={\"fontsize\":12})\n",
        "\n",
        "plt.title(\"Target Audience Proportions by Country\", fontsize=16)\n",
        "plt.xlabel(\"Country\")\n",
        "plt.ylabel(\"Target Age Group\")\n",
        "plt.show()\n"
      ],
      "metadata": {
        "id": "xyC9zolEZNRQ"
      },
      "execution_count": null,
      "outputs": []
    },
    {
      "cell_type": "markdown",
      "source": [
        "##### 1. Why did you pick the specific chart?"
      ],
      "metadata": {
        "id": "UV0SzAkaZNRQ"
      }
    },
    {
      "cell_type": "markdown",
      "source": [
        "A heatmap was selected because:\n",
        "\n",
        "It effectively shows proportional comparisons across two categorical variables—here, target age groups and countries.\n",
        "\n",
        "It enables quick visual interpretation of patterns using color intensity."
      ],
      "metadata": {
        "id": "DVPuT8LYZNRQ"
      }
    },
    {
      "cell_type": "markdown",
      "source": [
        "##### 2. What is/are the insight(s) found from the chart?"
      ],
      "metadata": {
        "id": "YPEH6qLeZNRQ"
      }
    },
    {
      "cell_type": "markdown",
      "source": [
        "United States likely shows a high proportion of adult-targeted content (TV-MA, R, etc.).\n",
        "\n",
        "India or Japan may show a more balanced mix or skew slightly toward family/older kids.\n",
        "\n",
        "Some countries (e.g., South Korea or France) may focus more on teen content."
      ],
      "metadata": {
        "id": "bfSqtnDqZNRR"
      }
    },
    {
      "cell_type": "markdown",
      "source": [
        "#### Chart - 15 - Pair Plot"
      ],
      "metadata": {
        "id": "q29F0dvdveiT"
      }
    },
    {
      "cell_type": "code",
      "source": [
        "# Pair Plot visualization code\n",
        "import pandas as pd\n",
        "import seaborn as sns\n",
        "import matplotlib.pyplot as plt\n",
        "\n",
        "# Make a copy of the dataset\n",
        "df = data.copy()\n",
        "\n",
        "# --- STEP 1: Clean numeric columns (example: 'duration', 'release_year') ---\n",
        "\n",
        "# Only keep rows where duration is in minutes (for movies)\n",
        "df = df[df['type'] == 'Movie']\n",
        "df['duration'] = df['duration'].str.replace('min', '').str.strip()\n",
        "df = df[df['duration'].str.isnumeric()]\n",
        "df['duration'] = df['duration'].astype(int)\n",
        "\n",
        "# Optional: clean 'rating' if needed\n",
        "df['rating'] = df['rating'].fillna('Unknown')\n",
        "\n",
        "# --- STEP 2: Select numerical columns for pairplot ---\n",
        "# Add more numerical columns if available in your dataset\n",
        "pairplot_data = df[['release_year', 'duration']]\n",
        "pairplot_data['type'] = df['type']\n",
        "\n",
        "# --- STEP 3: Plot the pairplot ---\n",
        "sns.pairplot(pairplot_data, hue='type', palette='Set2', diag_kind='kde', corner=True)\n",
        "plt.suptitle('Pairwise Relationships in Netflix Movies', fontsize=16)\n",
        "plt.show()\n"
      ],
      "metadata": {
        "id": "o58-TEIhveiU"
      },
      "execution_count": null,
      "outputs": []
    },
    {
      "cell_type": "markdown",
      "source": [
        "##### 1. Why did you pick the specific chart?"
      ],
      "metadata": {
        "id": "EXh0U9oCveiU"
      }
    },
    {
      "cell_type": "markdown",
      "source": [
        "It allows us to visually explore relationships between multiple numerical variables at once.It helps in identifying patterns, clusters, outliers, or correlations between features like release year and duration."
      ],
      "metadata": {
        "id": "eMmPjTByveiU"
      }
    },
    {
      "cell_type": "markdown",
      "source": [
        "##### 2. What is/are the insight(s) found from the chart?"
      ],
      "metadata": {
        "id": "22aHeOlLveiV"
      }
    },
    {
      "cell_type": "markdown",
      "source": [
        "Recent Release Dominance: The KDE for release_year will likely show most movies released post-2010, reflecting the streaming-era content boom.\n",
        "\n",
        "No strong correlation: The scatter plot may indicate no strong linear relationship between a movie’s release year and its duration."
      ],
      "metadata": {
        "id": "uPQ8RGwHveiV"
      }
    },
    {
      "cell_type": "markdown",
      "source": [
        "## **5. Solution to Business Objective**"
      ],
      "metadata": {
        "id": "JcMwzZxoAimU"
      }
    },
    {
      "cell_type": "markdown",
      "source": [
        "#### What do you suggest the client to achieve Business Objective ?\n",
        "Explain Briefly."
      ],
      "metadata": {
        "id": "8G2x9gOozGDZ"
      }
    },
    {
      "cell_type": "markdown",
      "source": [
        "The data visualizations provide a comprehensive set of insights that can significantly enhance business analysis and strategic decision-making for a streaming platform like Netflix. First, the **distribution of movie durations** reveals that most movies fall within a standard range of 90–120 minutes, which highlights a preference for conventional formats. However, this also opens the opportunity to **experiment with short-form and long-form content** to attract diverse viewing behaviors, such as mobile users or binge-watchers. The **bubble chart comparing duration, release year, and content rating** shows that as time progresses, there’s been a wider spread in duration and content types, suggesting an evolution in content strategy and audience expectations.\n",
        "\n",
        "The **area chart analyzing content added over time by type (Movie/TV Show)** demonstrates a growing trend in the production of both types, with notable surges in specific years. This indicates increased investment in original content, reflecting changing consumer preferences and competition in the streaming industry. The **month-wise addition bar chart** shows that most content is added during specific peak months like December, July, and October, which aligns with school vacations and holiday seasons. This insight is crucial for **timing major releases and marketing campaigns** to maximize viewership.\n",
        "\n",
        "The **sunburst and treemap visualizations** highlight how different countries contribute to the total viewing duration and the type of content being produced. These charts reveal that some countries focus more on movies, while others produce a balanced mix, emphasizing the need for **region-specific content strategies**. The **choropleth map**, although more high-level, reinforces this by showing which countries have higher total durations of content, helping identify **key markets and regions for investment**.\n",
        "\n",
        "A particularly valuable insight comes from the **heatmap showing target age group proportions across top-producing countries**. It clearly shows that some countries lean heavily towards adult content, while others have more balanced or family-friendly offerings. This is critical for **audience segmentation**, allowing for targeted content curation that aligns with cultural and demographic needs.\n",
        "\n",
        "Finally, the **pair plot** comparing release year and duration confirms that movie durations have remained relatively consistent over time, but with slight variations suggesting genre or regional influences. All these insights collectively support a business strategy that prioritizes **localized content production, smart release scheduling, audience-specific recommendations, and format innovation**. By applying these insights, the platform can improve **user retention, boost content relevance, and expand its footprint in emerging global markets**, ultimately achieving long-term business growth.\n"
      ],
      "metadata": {
        "id": "pASKb0qOza21"
      }
    },
    {
      "cell_type": "markdown",
      "source": [
        "# **Conclusion**"
      ],
      "metadata": {
        "id": "gCX9965dhzqZ"
      }
    },
    {
      "cell_type": "markdown",
      "source": [
        "In conclusion, the comprehensive visual analysis reveals valuable patterns in content duration, regional preferences, audience demographics, and release timing that can guide strategic decisions for a streaming platform. By leveraging these insights, the platform can tailor its content offerings to meet regional demands, target specific age groups more effectively, and plan content releases during peak engagement periods. Additionally, exploring diverse content durations and expanding in high-growth countries can further strengthen the platform’s market position. Overall, these data-driven strategies will enhance user satisfaction, increase retention, and support sustainable business growth in an increasingly competitive digital entertainment landscape.\n"
      ],
      "metadata": {
        "id": "Fjb1IsQkh3yE"
      }
    },
    {
      "cell_type": "markdown",
      "source": [
        "### ***Hurrah! You have successfully completed your EDA Capstone Project !!!***"
      ],
      "metadata": {
        "id": "gIfDvo9L0UH2"
      }
    }
  ]
}