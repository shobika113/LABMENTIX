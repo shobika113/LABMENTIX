{
  "nbformat": 4,
  "nbformat_minor": 0,
  "metadata": {
    "colab": {
      "private_outputs": true,
      "provenance": [],
      "collapsed_sections": [
        "vncDsAP0Gaoa",
        "FJNUwmbgGyua",
        "w6K7xa23Elo4",
        "yQaldy8SH6Dl",
        "PH-0ReGfmX4f",
        "mDgbUHAGgjLW",
        "nA9Y7ga8ng1Z",
        "PBTbrJXOngz2",
        "u3PMJOP6ngxN",
        "qYpmQ266Yuh3",
        "lssrdh5qphqQ",
        "E6MkPsBcp1cl",
        "gIfDvo9L0UH2"
      ],
      "include_colab_link": true
    },
    "kernelspec": {
      "name": "python3",
      "display_name": "Python 3"
    },
    "language_info": {
      "name": "python"
    }
  },
  "cells": [
    {
      "cell_type": "markdown",
      "metadata": {
        "id": "view-in-github",
        "colab_type": "text"
      },
      "source": [
        "<a href=\"https://colab.research.google.com/github/shobika113/LABMENTIX/blob/main/shobika_mental_health_labmentix_.ipynb\" target=\"_parent\"><img src=\"https://colab.research.google.com/assets/colab-badge.svg\" alt=\"Open In Colab\"/></a>"
      ]
    },
    {
      "cell_type": "markdown",
      "source": [
        "# **Project Name**    -\n",
        "\n"
      ],
      "metadata": {
        "id": "vncDsAP0Gaoa"
      }
    },
    {
      "cell_type": "markdown",
      "source": [
        "##### **Project Type**    - EDA\n",
        "##### **Contribution**    - Individual\n",
        "Shobika K\n"
      ],
      "metadata": {
        "id": "beRrZCGUAJYm"
      }
    },
    {
      "cell_type": "markdown",
      "source": [
        "# **Project Summary -**"
      ],
      "metadata": {
        "id": "FJNUwmbgGyua"
      }
    },
    {
      "cell_type": "markdown",
      "source": [
        "\n",
        "In this project, I perform an exploratory data analysis (EDA) on the **Mental Health in Tech Survey** dataset. The aim is to uncover patterns, relationships, and insights related to mental health issues and workplace attitudes in the tech industry.\n",
        "\n",
        "####  **Key Steps Undertaken**\n",
        "\n",
        "1. **Understanding the Data**\n",
        "\n",
        "   * Reviewed the structure, features, and types of responses in the dataset.\n",
        "   * Identified important columns such as age, gender, country, family history, treatment, work interference, and employer support.\n",
        "\n",
        "2. **Data Cleaning & Wrangling**\n",
        "\n",
        "   * Handled missing values and inconsistent entries (e.g., country names, gender categories).\n",
        "   * Removed outliers in the age column to maintain data quality.\n",
        "   * Standardized categorical variables for easier analysis.\n",
        "\n",
        "3. **Data Visualization**\n",
        "\n",
        "   * Visualized distributions of age, gender, and country-wise participation.\n",
        "   * Explored relationships between mental health treatment and factors such as family history, work interference, and age.\n",
        "   * Created heatmaps and bar charts to compare geographical trends and workplace support across countries.\n",
        "\n",
        "4. **Business Insights**\n",
        "\n",
        "   * Countries with more supportive workplace policies tend to have employees more open about seeking treatment.\n",
        "   * Family history and work stress are major predictors of mental health issues.\n",
        "   * Companies with better mental health awareness policies may reduce stigma and improve employee well-being.\n",
        "\n"
      ],
      "metadata": {
        "id": "F6v_1wHtG2nS"
      }
    },
    {
      "cell_type": "markdown",
      "source": [
        "# **GitHub Link -**"
      ],
      "metadata": {
        "id": "w6K7xa23Elo4"
      }
    },
    {
      "cell_type": "markdown",
      "source": [
        "Provide your GitHub Link here."
      ],
      "metadata": {
        "id": "h1o69JH3Eqqn"
      }
    },
    {
      "cell_type": "markdown",
      "source": [
        "# **Problem Statement**\n"
      ],
      "metadata": {
        "id": "yQaldy8SH6Dl"
      }
    },
    {
      "cell_type": "markdown",
      "source": [
        "Mental health is a growing concern in the tech industry, where high stress levels, long working hours, and limited support can negatively impact employee well-being. This project aims to explore the factors influencing mental health issues among tech workers using survey data . Through data wrangling, visualization, and pattern analysis, we seek to understand how mental health conditions and attitudes vary by demographics, geography, and workplace environment. The ultimate goal is to uncover actionable insights that can help organizations create more supportive mental health policies and reduce stigma in the tech workplace."
      ],
      "metadata": {
        "id": "DpeJGUA3kjGy"
      }
    },
    {
      "cell_type": "markdown",
      "source": [
        "#### **Define Your Business Objective?**"
      ],
      "metadata": {
        "id": "PH-0ReGfmX4f"
      }
    },
    {
      "cell_type": "markdown",
      "source": [
        "The business objective of this project is to analyze mental health trends in the tech industry to help organizations make data-driven decisions that promote better mental health support in the workplace. By identifying key factors such as geographical patterns, workplace attitudes, and personal predictors related to mental health, companies can:\n",
        "\n",
        "Recognize early warning signs among employees.\n",
        "\n",
        "Develop targeted mental health programs.\n",
        "\n",
        "Foster an open and supportive work culture.\n",
        "\n",
        "Reduce absenteeism and improve employee productivity.\n",
        "\n",
        "The ultimate goal is to use insights from the data to guide effective mental health policies and enhance employee well-being in the tech sector."
      ],
      "metadata": {
        "id": "PhDvGCAqmjP1"
      }
    },
    {
      "cell_type": "markdown",
      "source": [
        "# **General Guidelines** : -  "
      ],
      "metadata": {
        "id": "mDgbUHAGgjLW"
      }
    },
    {
      "cell_type": "markdown",
      "source": [
        "1.   Well-structured, formatted, and commented code is required.\n",
        "2.   Exception Handling, Production Grade Code & Deployment Ready Code will be a plus. Those students will be awarded some additional credits.\n",
        "     \n",
        "     The additional credits will have advantages over other students during Star Student selection.\n",
        "       \n",
        "             [ Note: - Deployment Ready Code is defined as, the whole .ipynb notebook should be executable in one go\n",
        "                       without a single error logged. ]\n",
        "\n",
        "3.   Each and every logic should have proper comments.\n",
        "4. You may add as many number of charts you want. Make Sure for each and every chart the following format should be answered.\n",
        "        \n",
        "\n",
        "```\n",
        "# Chart visualization code\n",
        "```\n",
        "            \n",
        "\n",
        "*   Why did you pick the specific chart?\n",
        "*   What is/are the insight(s) found from the chart?\n",
        "* Will the gained insights help creating a positive business impact?\n",
        "Are there any insights that lead to negative growth? Justify with specific reason.\n",
        "\n",
        "5. You have to create at least 20 logical & meaningful charts having important insights.\n",
        "\n",
        "\n",
        "[ Hints : - Do the Vizualization in  a structured way while following \"UBM\" Rule.\n",
        "\n",
        "U - Univariate Analysis,\n",
        "\n",
        "B - Bivariate Analysis (Numerical - Categorical, Numerical - Numerical, Categorical - Categorical)\n",
        "\n",
        "M - Multivariate Analysis\n",
        " ]\n",
        "\n",
        "\n",
        "\n"
      ],
      "metadata": {
        "id": "ZrxVaUj-hHfC"
      }
    },
    {
      "cell_type": "markdown",
      "source": [
        "# ***Let's Begin !***"
      ],
      "metadata": {
        "id": "O_i_v8NEhb9l"
      }
    },
    {
      "cell_type": "markdown",
      "source": [
        "## ***1. Know Your Data***"
      ],
      "metadata": {
        "id": "HhfV-JJviCcP"
      }
    },
    {
      "cell_type": "markdown",
      "source": [
        "### Import Libraries"
      ],
      "metadata": {
        "id": "Y3lxredqlCYt"
      }
    },
    {
      "cell_type": "code",
      "source": [
        "# Import Libraries\n",
        "# For data manipulation and handling\n",
        "import pandas as pd\n",
        "import numpy as np\n",
        "\n",
        "# For visualization\n",
        "import matplotlib.pyplot as plt\n",
        "import seaborn as sns\n",
        "import plotly.express as px\n",
        "import plotly.graph_objects as go\n",
        "from sklearn.preprocessing import LabelEncoder\n",
        "print(\"All libraries imported successfully.\")"
      ],
      "metadata": {
        "id": "M8Vqi-pPk-HR"
      },
      "execution_count": null,
      "outputs": []
    },
    {
      "cell_type": "markdown",
      "source": [
        "### Dataset Loading"
      ],
      "metadata": {
        "id": "3RnN4peoiCZX"
      }
    },
    {
      "cell_type": "code",
      "source": [
        "# Load Dataset\n",
        "file_path = '/content/survey.csv'\n",
        "# Load the dataset\n",
        "data = pd.read_csv(file_path)\n",
        "\n",
        "# Display basic info\n",
        "print(\"✅ Dataset loaded successfully.\")"
      ],
      "metadata": {
        "id": "4CkvbW_SlZ_R"
      },
      "execution_count": null,
      "outputs": []
    },
    {
      "cell_type": "markdown",
      "source": [
        "### Dataset First View"
      ],
      "metadata": {
        "id": "x71ZqKXriCWQ"
      }
    },
    {
      "cell_type": "code",
      "source": [
        "# Dataset First Look\n",
        "data.head()"
      ],
      "metadata": {
        "id": "LWNFOSvLl09H"
      },
      "execution_count": null,
      "outputs": []
    },
    {
      "cell_type": "code",
      "source": [
        "data.tail()"
      ],
      "metadata": {
        "id": "ecur9zqyI6Yq"
      },
      "execution_count": null,
      "outputs": []
    },
    {
      "cell_type": "markdown",
      "source": [
        "### Dataset Rows & Columns count"
      ],
      "metadata": {
        "id": "7hBIi_osiCS2"
      }
    },
    {
      "cell_type": "code",
      "source": [
        "# Dataset Rows & Columns count\n",
        "rows, columns = data.shape\n",
        "print(f\"The dataset contains {rows} rows and {columns} columns.\")"
      ],
      "metadata": {
        "id": "Kllu7SJgmLij"
      },
      "execution_count": null,
      "outputs": []
    },
    {
      "cell_type": "markdown",
      "source": [
        "### Dataset Information"
      ],
      "metadata": {
        "id": "JlHwYmJAmNHm"
      }
    },
    {
      "cell_type": "code",
      "source": [
        "# Dataset Info\n",
        "data.info()"
      ],
      "metadata": {
        "id": "e9hRXRi6meOf"
      },
      "execution_count": null,
      "outputs": []
    },
    {
      "cell_type": "markdown",
      "source": [
        "#### Duplicate Values"
      ],
      "metadata": {
        "id": "35m5QtbWiB9F"
      }
    },
    {
      "cell_type": "code",
      "source": [
        "# Dataset Duplicate Value Count\n",
        "duplicate_count = data.duplicated().sum()\n",
        "print(f\"Number of duplicate rows in the dataset: {duplicate_count}\")"
      ],
      "metadata": {
        "id": "1sLdpKYkmox0"
      },
      "execution_count": null,
      "outputs": []
    },
    {
      "cell_type": "markdown",
      "source": [
        "#### Missing Values/Null Values"
      ],
      "metadata": {
        "id": "PoPl-ycgm1ru"
      }
    },
    {
      "cell_type": "code",
      "source": [
        "# Missing Values/Null Values Count\n",
        "missing_values = data.isnull().sum()\n",
        "print(\"Missing values in each column:\\n\")\n",
        "print(missing_values)"
      ],
      "metadata": {
        "id": "GgHWkxvamxVg"
      },
      "execution_count": null,
      "outputs": []
    },
    {
      "cell_type": "code",
      "source": [
        "# Visualizing the missing values\n",
        "plt.figure(figsize=(10, 6))\n",
        "sns.heatmap(data.isnull(), cmap='viridis', cbar=False)\n",
        "plt.title('Missing Values Heatmap')\n",
        "plt.show()"
      ],
      "metadata": {
        "id": "3q5wnI3om9sJ"
      },
      "execution_count": null,
      "outputs": []
    },
    {
      "cell_type": "markdown",
      "source": [
        "### What did you know about your dataset?"
      ],
      "metadata": {
        "id": "H0kj-8xxnORC"
      }
    },
    {
      "cell_type": "markdown",
      "source": [
        "\n",
        "\n",
        "The dataset contains **1,259 rows** from a survey focused on mental health in the tech industry. It includes **27 columns** covering demographics (age, gender, country), work environment (remote work, company size, tech company), and mental health indicators (treatment, family history, work interference). Most fields are complete, though some have missing values, such as state (515 missing), work_interfere (264 missing), and self_employed (18 missing). The comments field has significant missing data and may be excluded from core analysis. The dataset has **no duplicate entries** and is ready for cleaning and exploration.\n"
      ],
      "metadata": {
        "id": "gfoNAAC-nUe_"
      }
    },
    {
      "cell_type": "markdown",
      "source": [
        "## ***2. Understanding Your Variables***"
      ],
      "metadata": {
        "id": "nA9Y7ga8ng1Z"
      }
    },
    {
      "cell_type": "code",
      "source": [
        "# Dataset Columns\n",
        "column=data.columns.tolist()\n",
        "print(\"Column Names:\",column)"
      ],
      "metadata": {
        "id": "j7xfkqrt5Ag5"
      },
      "execution_count": null,
      "outputs": []
    },
    {
      "cell_type": "code",
      "source": [
        "# Dataset Describe\n",
        "data.describe(include='all').transpose()"
      ],
      "metadata": {
        "id": "DnOaZdaE5Q5t"
      },
      "execution_count": null,
      "outputs": []
    },
    {
      "cell_type": "markdown",
      "source": [
        "### Variables Description"
      ],
      "metadata": {
        "id": "PBTbrJXOngz2"
      }
    },
    {
      "cell_type": "markdown",
      "source": [
        "| **Variable Name**           | **Description**                                                                                |\n",
        "| --------------------------- | ---------------------------------------------------------------------------------------------- |\n",
        "| `Timestamp`                 | Date and time when the survey was submitted.                                                   |\n",
        "| `Age`                       | Age of the respondent (in years).                                                              |\n",
        "| `Gender`                    | Gender identity of the respondent.                                                             |\n",
        "| `Country`                   | Country of residence.                                                                          |\n",
        "| `state`                     | State of residence (mainly applicable to the U.S.).                                            |\n",
        "| `self_employed`             | Whether the respondent is self-employed.                                                       |\n",
        "| `family_history`            | Whether the respondent has a family history of mental illness.                                 |\n",
        "| `treatment`                 | Whether the respondent has sought treatment for mental health.                                 |\n",
        "| `work_interfere`            | Frequency with which mental health interferes with work.                                       |\n",
        "| `no_employees`              | Number of employees at the respondent’s workplace.                                             |\n",
        "| `remote_work`               | Whether the respondent works remotely.                                                         |\n",
        "| `tech_company`              | Whether the respondent works in a tech company.                                                |\n",
        "| `benefits`                  | Whether the employer provides mental health benefits.                                          |\n",
        "| `care_options`              | Availability of mental health care options through the employer.                               |\n",
        "| `wellness_program`          | Whether the employer has a wellness program.                                                   |\n",
        "| `seek_help`                 | Whether the employer offers resources to seek mental health help.                              |\n",
        "| `anonymity`                 | Whether anonymity is protected when seeking help for mental health.                            |\n",
        "| `leave`                     | Ease of taking medical leave for mental health issues.                                         |\n",
        "| `mental_health_consequence` | Perceived consequences of discussing mental health at work.                                    |\n",
        "| `phys_health_consequence`   | Perceived consequences of discussing physical health at work.                                  |\n",
        "| `coworkers`                 | Comfort level in discussing mental health with coworkers.                                      |\n",
        "| `supervisor`                | Comfort level in discussing mental health with supervisors.                                    |\n",
        "| `mental_health_interview`   | Whether mental health is a factor in job interviews.                                           |\n",
        "| `phys_health_interview`     | Whether physical health is a factor in job interviews.                                         |\n",
        "| `mental_vs_physical`        | Importance of mental vs. physical health in the workplace.                                     |\n",
        "| `obs_consequence`           | Whether the respondent has observed negative consequences of mental health disclosure at work. |\n",
        "| `comments`                  | Open-ended comments (free text, mostly missing).                                               |\n"
      ],
      "metadata": {
        "id": "aJV4KIxSnxay"
      }
    },
    {
      "cell_type": "markdown",
      "source": [
        "### Check Unique Values for each variable."
      ],
      "metadata": {
        "id": "u3PMJOP6ngxN"
      }
    },
    {
      "cell_type": "code",
      "source": [
        "# Check Unique Values for each variable.\n",
        "unique_values = data.nunique().sort_values(ascending=False)\n",
        "\n",
        "# Display the result\n",
        "print(\"Unique values in each column:\\n\")\n",
        "print(unique_values)"
      ],
      "metadata": {
        "id": "zms12Yq5n-jE"
      },
      "execution_count": null,
      "outputs": []
    },
    {
      "cell_type": "code",
      "source": [
        "unique_counts = data.nunique().sort_values()\n",
        "\n",
        "# Set plot style\n",
        "plt.figure(figsize=(10, 6))\n",
        "sns.barplot(x=unique_counts.values, y=unique_counts.index, palette='viridis')\n",
        "\n",
        "# Add labels and title\n",
        "plt.title(\"Unique Values per Column in survey  Dataset\", fontsize=14)\n",
        "plt.xlabel(\"Number of Unique Values\")\n",
        "plt.ylabel(\"Columns\")\n",
        "plt.tight_layout()\n",
        "plt.show()"
      ],
      "metadata": {
        "id": "r1--aNtrKr6Q"
      },
      "execution_count": null,
      "outputs": []
    },
    {
      "cell_type": "markdown",
      "source": [
        "## 3. ***Data Wrangling***"
      ],
      "metadata": {
        "id": "dauF4eBmngu3"
      }
    },
    {
      "cell_type": "markdown",
      "source": [
        "### Data Wrangling Code"
      ],
      "metadata": {
        "id": "bKJF3rekwFvQ"
      }
    },
    {
      "cell_type": "code",
      "source": [
        "# Write your code to make your dataset analysis ready.\n",
        "\n",
        "\n",
        "# ----------------------\n",
        "# Step 2: Clean 'Age' column\n",
        "# ----------------------\n",
        "# Remove unrealistic age entries (e.g., <16 or >100)\n",
        "data = data[(data['Age'] >= 16) & (data['Age'] <= 100)]\n",
        "\n",
        "# ----------------------\n",
        "# Step 3: Clean 'Gender' column\n",
        "# ----------------------\n",
        "# Convert all gender values to lowercase and strip whitespace\n",
        "data['Gender'] = data['Gender'].str.lower().str.strip()\n",
        "\n",
        "# Replace similar gender entries\n",
        "male_terms = ['male', 'm', 'man', 'male-ish', 'maile', 'mal', 'male (cis)', 'cis male']\n",
        "female_terms = ['female', 'f', 'woman', 'femail', 'cis female', 'femake']\n",
        "trans_terms = ['trans', 'trans-female', 'trans male', 'trans man', 'trans woman', 'genderqueer']\n",
        "\n",
        "data['Gender'] = data['Gender'].replace(male_terms, 'male')\n",
        "data['Gender'] = data['Gender'].replace(female_terms, 'female')\n",
        "data['Gender'] = data['Gender'].replace(trans_terms, 'trans')\n",
        "\n",
        "# Keep only common values: male, female, trans\n",
        "data = data[data['Gender'].isin(['male', 'female', 'trans'])]\n",
        "\n",
        "# ----------------------\n",
        "# Step 4: Handle missing values\n",
        "# ----------------------\n",
        "\n",
        "# Fill or impute selected columns\n",
        "data['self_employed'].fillna('No', inplace=True)\n",
        "data['work_interfere'].fillna('Don’t know', inplace=True)\n",
        "\n",
        "# ----------------------\n",
        "# Step 5: Convert to categorical types (optional but helpful)\n",
        "# ----------------------\n",
        "categorical_cols = [\n",
        "    'Gender', 'Country', 'self_employed', 'family_history', 'treatment',\n",
        "    'work_interfere', 'no_employees', 'remote_work', 'tech_company',\n",
        "    'benefits', 'care_options', 'wellness_program', 'seek_help',\n",
        "    'anonymity', 'leave', 'mental_health_consequence',\n",
        "    'phys_health_consequence', 'coworkers', 'supervisor',\n",
        "    'mental_health_interview', 'phys_health_interview',\n",
        "    'mental_vs_physical', 'obs_consequence'\n",
        "]\n",
        "\n",
        "data[categorical_cols] = data[categorical_cols].astype('category')\n",
        "\n",
        "# ----------------------\n",
        "# Final check\n",
        "# ----------------------\n",
        "print(data.info())\n",
        "print(data.isnull().sum())\n"
      ],
      "metadata": {
        "id": "wk-9a2fpoLcV"
      },
      "execution_count": null,
      "outputs": []
    },
    {
      "cell_type": "markdown",
      "source": [
        "### What all manipulations have you done and insights you found?"
      ],
      "metadata": {
        "id": "MSa1f5Uengrz"
      }
    },
    {
      "cell_type": "markdown",
      "source": [
        "We performed several data wrangling steps, including removing unrealistic age entries, standardizing gender categories (male, female, trans), and handling missing values by dropping or imputing where appropriate. Unnecessary columns like Timestamp, state, and comments were removed to focus on relevant features. After cleaning, we discovered that a significant portion of respondents reported having a family history of mental illness and receiving treatment. Most participants worked in tech companies, yet many reported limited access to mental health resources. Comfort discussing mental health with employers varied widely, indicating a need for more open and supportive workplace environments in the tech industry."
      ],
      "metadata": {
        "id": "LbyXE7I1olp8"
      }
    },
    {
      "cell_type": "markdown",
      "source": [
        "## ***4. Data Vizualization, Storytelling & Experimenting with charts : Understand the relationships between variables***"
      ],
      "metadata": {
        "id": "GF8Ens_Soomf"
      }
    },
    {
      "cell_type": "markdown",
      "source": [
        "#### Chart - 1"
      ],
      "metadata": {
        "id": "0wOQAZs5pc--"
      }
    },
    {
      "cell_type": "code",
      "source": [
        "fig = px.histogram(data, x='Age', nbins=10, color='Gender',\n",
        "                   title='Age Distribution by Gender',\n",
        "                   labels={'Age': 'Age', 'count': 'Number of Respondents'})\n",
        "fig.update_layout(barmode='overlay')  # you can use 'group' for side-by-side\n",
        "fig.update_traces(opacity=0.6)\n",
        "fig.show()"
      ],
      "metadata": {
        "id": "7v_ESjsspbW7"
      },
      "execution_count": null,
      "outputs": []
    },
    {
      "cell_type": "markdown",
      "source": [
        "##### 1. Why did you pick the specific chart?"
      ],
      "metadata": {
        "id": "K5QZ13OEpz2H"
      }
    },
    {
      "cell_type": "markdown",
      "source": [
        "Age is a continuous variable, and histograms are ideal for showing how frequently different age ranges occurOverlaying the distributions (with transparency) helps highlight where age distributions for different genders overlap or differ.\n",
        "This is crucial in the mental health in tech context, where age and gender may influence both awareness and access to mental health resources.."
      ],
      "metadata": {
        "id": "XESiWehPqBRc"
      }
    },
    {
      "cell_type": "markdown",
      "source": [
        "##### 2. What is/are the insight(s) found from the chart?"
      ],
      "metadata": {
        "id": "lQ7QKXXCp7Bj"
      }
    },
    {
      "cell_type": "markdown",
      "source": [
        "The majority of respondents fall in the 25–35 age range.\n",
        "\n",
        "Male participants dominate the survey across most age groups, especially between 25–40.\n",
        "\n",
        "Female participation is comparatively lower, and older age groups (above 45) are underrepresented for both genders."
      ],
      "metadata": {
        "id": "C_j1G7yiqdRP"
      }
    },
    {
      "cell_type": "markdown",
      "source": [
        "##### 3. Will the gained insights help creating a positive business impact?\n",
        "Are there any insights that lead to negative growth? Justify with specific reason."
      ],
      "metadata": {
        "id": "448CDAPjqfQr"
      }
    },
    {
      "cell_type": "markdown",
      "source": [
        " Positive Business Impact:\n",
        "\n",
        "\n",
        "Targeted Mental Health Programs: Knowing that most respondents are in the 25–35 age group, companies can design programs (e.g., workshops, flexible therapy sessions) tailored to the stressors of early/mid-career professionals.\n",
        "\n",
        " Negative Impact:\n",
        "\n",
        "Lack of Representation: Low participation from older employees and females could indicate:\n",
        "\n",
        "~Cultural stigma around mental health.\n",
        "\n",
        "~Lack of trust or comfort with company support systems."
      ],
      "metadata": {
        "id": "3cspy4FjqxJW"
      }
    },
    {
      "cell_type": "markdown",
      "source": [
        "#### Chart - 2"
      ],
      "metadata": {
        "id": "KSlN3yHqYklG"
      }
    },
    {
      "cell_type": "code",
      "source": [
        "# Chart - 2 visualization code\n",
        "px.box(data, x='treatment', y='Age', title=' Age by Treatment').show()"
      ],
      "metadata": {
        "id": "R4YgtaqtYklH"
      },
      "execution_count": null,
      "outputs": []
    },
    {
      "cell_type": "markdown",
      "source": [
        "##### 1. Why did you pick the specific chart?"
      ],
      "metadata": {
        "id": "t6dVpIINYklI"
      }
    },
    {
      "cell_type": "markdown",
      "source": [
        "A box plot is ideal for visualizing age distribution across different treatment groups.\n",
        "\n",
        "It shows key statistical properties such as median, quartiles (Q1 & Q3), and outliers.\n",
        "\n"
      ],
      "metadata": {
        "id": "5aaW0BYyYklI"
      }
    },
    {
      "cell_type": "markdown",
      "source": [
        "##### 2. What is/are the insight(s) found from the chart?"
      ],
      "metadata": {
        "id": "ijmpgYnKYklI"
      }
    },
    {
      "cell_type": "markdown",
      "source": [
        "The median age of respondents who received treatment is slightly higher than those who did not.\n",
        "\n",
        "There’s a wider age spread (more variability) among the treated group, possibly including older individuals.\n",
        "\n",
        "Younger respondents (early 20s) appear in both groups, but some outliers in the treatment group are older adults."
      ],
      "metadata": {
        "id": "PSx9atu2YklI"
      }
    },
    {
      "cell_type": "markdown",
      "source": [
        "##### 3. Will the gained insights help creating a positive business impact?\n",
        "Are there any insights that lead to negative growth? Justify with specific reason."
      ],
      "metadata": {
        "id": "-JiQyfWJYklI"
      }
    },
    {
      "cell_type": "markdown",
      "source": [
        "Positive  Impact:\n",
        "\n",
        "\n",
        "This chart helps companies understand that:\n",
        "\n",
        "Age may influence treatment-seeking behavior.\n",
        "\n",
        "Mental health services might need to be tailored by age group (e.g., younger employees may benefit from peer support or anonymous counseling).\n",
        "\n",
        "Potential Impact:\n",
        "\n",
        "\n",
        "If younger employees are less likely to seek treatment, this could indicate:\n",
        "\n",
        "Cultural stigma or fear of career impact.\n",
        "\n",
        "A lack of awareness or trust in company mental health support."
      ],
      "metadata": {
        "id": "BcBbebzrYklV"
      }
    },
    {
      "cell_type": "markdown",
      "source": [
        "#### Chart - 3"
      ],
      "metadata": {
        "id": "EM7whBJCYoAo"
      }
    },
    {
      "cell_type": "code",
      "source": [
        "# Chart 3: Violin plot\n",
        "px.violin(data, x='family_history', y='Age', color='family_history', box=True, title='4. Age vs Family History').show()"
      ],
      "metadata": {
        "id": "t6GMdE67YoAp"
      },
      "execution_count": null,
      "outputs": []
    },
    {
      "cell_type": "markdown",
      "source": [
        "##### 1. Why did you pick the specific chart?"
      ],
      "metadata": {
        "id": "fge-S5ZAYoAp"
      }
    },
    {
      "cell_type": "markdown",
      "source": [
        "A violin plot is ideal for visualizing both the distribution and density of data across categories.\n",
        "\n",
        "It combines the features of a box plot (median, IQR) and a KDE (Kernel Density Estimate) curve."
      ],
      "metadata": {
        "id": "5dBItgRVYoAp"
      }
    },
    {
      "cell_type": "markdown",
      "source": [
        "##### 2. What is/are the insight(s) found from the chart?"
      ],
      "metadata": {
        "id": "85gYPyotYoAp"
      }
    },
    {
      "cell_type": "markdown",
      "source": [
        "Respondents with a family history of mental illness are evenly spread across a broad age range.\n",
        "\n",
        "The median age appears similar for both groups, but:\n",
        "\n",
        "The distribution shape for those without family history might be narrower, indicating less age diversity.\n",
        "\n",
        "Those with family history show a wider spread, possibly indicating higher representation across all age groups."
      ],
      "metadata": {
        "id": "4jstXR6OYoAp"
      }
    },
    {
      "cell_type": "markdown",
      "source": [
        "##### 3. Will the gained insights help creating a positive business impact?\n",
        "Are there any insights that lead to negative growth? Justify with specific reason."
      ],
      "metadata": {
        "id": "RoGjAbkUYoAp"
      }
    },
    {
      "cell_type": "markdown",
      "source": [
        "Positive  Impact:\n",
        "\n",
        "\n",
        "Understanding the age distribution of individuals with family history allows organizations to:\n",
        "\n",
        "Design awareness campaigns that focus on hereditary factors in mental health.\n",
        "\n",
        "Promote preventive care and early intervention, especially in younger employees with known family history."
      ],
      "metadata": {
        "id": "zfJ8IqMcYoAp"
      }
    },
    {
      "cell_type": "markdown",
      "source": [
        "#### Chart - 4"
      ],
      "metadata": {
        "id": "4Of9eVA-YrdM"
      }
    },
    {
      "cell_type": "code",
      "source": [
        "# Chart - 4 visualization code\n",
        "# Chart 4: Bar plot\n",
        "bar_data = data.groupby(['work_interfere', 'treatment']).size().reset_index(name='count')\n",
        "px.bar(bar_data, x='work_interfere', y='count', color='treatment', title='5. Work Interference vs Treatment').show()"
      ],
      "metadata": {
        "id": "irlUoxc8YrdO"
      },
      "execution_count": null,
      "outputs": []
    },
    {
      "cell_type": "markdown",
      "source": [
        "##### 1. Why did you pick the specific chart?"
      ],
      "metadata": {
        "id": "iky9q4vBYrdO"
      }
    },
    {
      "cell_type": "markdown",
      "source": [
        "A bar plot is perfect for categorical comparisons, especially for visualizing frequencies.\n",
        "\n",
        "This chart compares how many people with different levels of work interference due to mental health have either received treatment or not.\n",
        "\n"
      ],
      "metadata": {
        "id": "aJRCwT6DYrdO"
      }
    },
    {
      "cell_type": "markdown",
      "source": [
        "##### 2. What is/are the insight(s) found from the chart?"
      ],
      "metadata": {
        "id": "F6T5p64dYrdO"
      }
    },
    {
      "cell_type": "markdown",
      "source": [
        "Respondents who report frequent interference with work (Often, Sometimes) are more likely to have received treatment.\n",
        "\n",
        "Those reporting Never or Rarely experiencing interference are less likely to seek treatment.\n",
        "\n",
        "The highest count of treatment is often observed among those who say work is “Sometimes” affected—showing a potential threshold where people decide to seek help."
      ],
      "metadata": {
        "id": "Xx8WAJvtYrdO"
      }
    },
    {
      "cell_type": "markdown",
      "source": [
        "##### 3. Will the gained insights help creating a positive business impact?\n",
        "Are there any insights that lead to negative growth? Justify with specific reason."
      ],
      "metadata": {
        "id": "y-Ehk30pYrdP"
      }
    },
    {
      "cell_type": "markdown",
      "source": [
        "Positive Business Impact:\n",
        "\n",
        "\n",
        "This insight validates the importance of workplace impact in driving mental health treatment.\n",
        "\n",
        "Companies can:\n",
        "\n",
        "Monitor employees’ self-reported productivity or interference levels as early indicators.\n",
        "\n",
        "Develop well-being check-ins or assessments to identify those who may be struggling but not seeking help.\n",
        "\n",
        "\n",
        "Negative Insight:\n",
        "\n",
        "\n",
        "If many individuals whose work is “Often” or “Sometimes” affected do not seek treatment, it could mean:\n",
        "\n",
        "Lack of awareness, trust, or access to support services.\n",
        "\n",
        "Fear of being judged or penalized for seeking help."
      ],
      "metadata": {
        "id": "jLNxxz7MYrdP"
      }
    },
    {
      "cell_type": "markdown",
      "source": [
        "#### Chart - 5"
      ],
      "metadata": {
        "id": "bamQiAODYuh1"
      }
    },
    {
      "cell_type": "code",
      "source": [
        "# Chart - 5 visualization code\n",
        "# Chart 6: Donut chart\n",
        "tech_counts = data['tech_company'].value_counts()\n",
        "px.pie(values=tech_counts.values, names=tech_counts.index, hole=0.5, title='6. Tech Company Employment').show()"
      ],
      "metadata": {
        "id": "TIJwrbroYuh3"
      },
      "execution_count": null,
      "outputs": []
    },
    {
      "cell_type": "markdown",
      "source": [
        "##### 1. Why did you pick the specific chart?"
      ],
      "metadata": {
        "id": "QHF8YVU7Yuh3"
      }
    },
    {
      "cell_type": "markdown",
      "source": [
        "It gives a quick snapshot of how many respondents are working in the tech industry versus those who are not.\n",
        "\n",
        "This chart is especially relevant to the dataset “Mental Health in Tech”, as it helps understand the target audience of the survey.Answer Here."
      ],
      "metadata": {
        "id": "dcxuIMRPYuh3"
      }
    },
    {
      "cell_type": "markdown",
      "source": [
        "##### 2. What is/are the insight(s) found from the chart?"
      ],
      "metadata": {
        "id": "GwzvFGzlYuh3"
      }
    },
    {
      "cell_type": "markdown",
      "source": [
        "A smaller proportion of participants do not work in tech—either from other sectors or are unemployed.\n",
        "\n",
        "This confirms that the dataset is heavily tech-industry focused, validating its relevance to the mental health in tech theme.\n",
        "\n",
        "The dominance of tech employees suggests that mental health challenges and experiences captured are primarily from a fast-paced, high-pressure environment typical of tech workplaces."
      ],
      "metadata": {
        "id": "uyqkiB8YYuh3"
      }
    },
    {
      "cell_type": "markdown",
      "source": [
        "##### 3. Will the gained insights help creating a positive business impact?\n",
        "Are there any insights that lead to negative growth? Justify with specific reason."
      ],
      "metadata": {
        "id": "qYpmQ266Yuh3"
      }
    },
    {
      "cell_type": "markdown",
      "source": [
        "Positive  Impact:\n",
        "\n",
        "\n",
        "The fact that most respondents are from tech companies confirms that:\n",
        "\n",
        "Mental health strategies can be tailored specifically for tech work environments (e.g., burnout prevention, remote work support).\n",
        "\n",
        "Companies in tech can benchmark their employee wellness practices against this dataset.\n",
        "\n",
        "Negative Insight:\n",
        "\n",
        "\n",
        "The underrepresentation of non-tech companies may indicate:\n",
        "\n",
        "A lack of awareness or concern about mental health outside the tech industry.\n",
        "\n",
        "Potential industry bias, meaning some insights may not generalize to broader populations."
      ],
      "metadata": {
        "id": "_WtzZ_hCYuh4"
      }
    },
    {
      "cell_type": "markdown",
      "source": [
        "#### Chart - 6"
      ],
      "metadata": {
        "id": "OH-pJp9IphqM"
      }
    },
    {
      "cell_type": "code",
      "source": [
        "# Chart - 6 visualization code# Chart 9: Swarmplot\n",
        "sns.swarmplot(x='Gender', y='Age', data=data)\n",
        "plt.title(\"9. Gender vs Age (Swarm)\")\n",
        "plt.show()"
      ],
      "metadata": {
        "id": "kuRf4wtuphqN"
      },
      "execution_count": null,
      "outputs": []
    },
    {
      "cell_type": "markdown",
      "source": [
        "##### 1. Why did you pick the specific chart?"
      ],
      "metadata": {
        "id": "bbFf2-_FphqN"
      }
    },
    {
      "cell_type": "markdown",
      "source": [
        "A swarm plot is ideal for showing individual data points while avoiding overlap.\n",
        "\n",
        "In this chart:\n",
        "\n",
        "We're exploring how Age varies across Gender.\n",
        "\n",
        "It helps uncover patterns, outliers, or skewness in participation by gender identity."
      ],
      "metadata": {
        "id": "loh7H2nzphqN"
      }
    },
    {
      "cell_type": "markdown",
      "source": [
        "##### 2. What is/are the insight(s) found from the chart?"
      ],
      "metadata": {
        "id": "_ouA3fa0phqN"
      }
    },
    {
      "cell_type": "markdown",
      "source": [
        "Male respondents dominate the dataset, with ages concentrated between 25 and 40.\n",
        "\n",
        "Female respondents are present in similar age ranges but are fewer in number, suggesting underrepresentation.\n",
        "\n",
        "Non-binary/Other gender identities appear with very few data points, often scattered and not clustered."
      ],
      "metadata": {
        "id": "VECbqPI7phqN"
      }
    },
    {
      "cell_type": "markdown",
      "source": [
        "##### 3. Will the gained insights help creating a positive business impact?\n",
        "Are there any insights that lead to negative growth? Justify with specific reason."
      ],
      "metadata": {
        "id": "Seke61FWphqN"
      }
    },
    {
      "cell_type": "markdown",
      "source": [
        "Positive Impact:\n",
        "\n",
        "\n",
        "Recognize which gender groups are actively participating in mental health surveys.\n",
        "\n",
        "Identify gaps in outreach or inclusion, especially among non-binary and female employees.\n",
        "\n",
        "Negative Insight:\n",
        "\n",
        "\n",
        "The low participation of female and non-binary individuals may signal:\n",
        "\n",
        "Lack of psychological safety.\n",
        "\n",
        "Distrust in survey confidentiality or company support systems."
      ],
      "metadata": {
        "id": "DW4_bGpfphqN"
      }
    },
    {
      "cell_type": "markdown",
      "source": [
        "#### Chart - 7"
      ],
      "metadata": {
        "id": "PIIx-8_IphqN"
      }
    },
    {
      "cell_type": "code",
      "source": [
        "# Chart - 7 visualization code\n",
        "# Chart 11: Strip plot\n",
        "sns.stripplot(x='leave', y='Age', data=data, jitter=True)\n",
        "plt.title(\"11. Leave vs Age\")\n",
        "plt.show()"
      ],
      "metadata": {
        "id": "lqAIGUfyphqO"
      },
      "execution_count": null,
      "outputs": []
    },
    {
      "cell_type": "markdown",
      "source": [
        "##### 1. Why did you pick the specific chart?"
      ],
      "metadata": {
        "id": "t27r6nlMphqO"
      }
    },
    {
      "cell_type": "markdown",
      "source": [
        "A strip plot is useful for displaying individual data points across categorical variables like leave.\n",
        "\n",
        "Adding jitter prevents overlapping of points and gives a clear view of density and spread.\n",
        "\n",
        "This plot helps explore how age relates to attitudes toward taking mental health leave, a key concern in workplace policy."
      ],
      "metadata": {
        "id": "iv6ro40sphqO"
      }
    },
    {
      "cell_type": "markdown",
      "source": [
        "##### 2. What is/are the insight(s) found from the chart?"
      ],
      "metadata": {
        "id": "r2jJGEOYphqO"
      }
    },
    {
      "cell_type": "markdown",
      "source": [
        "Respondents who say it's “Somewhat easy” or “Very easy” to take leave are spread across various ages, mostly from 25 to 40.\n",
        "\n",
        "The group that finds it “Very difficult” or “Don’t know” tends to be more age-clustered, often skewing slightly older.\n",
        "\n",
        "Younger employees (under 30) appear in all categories, showing diverse experiences with mental health leave."
      ],
      "metadata": {
        "id": "Po6ZPi4hphqO"
      }
    },
    {
      "cell_type": "markdown",
      "source": [
        "##### 3. Will the gained insights help creating a positive business impact?\n",
        "Are there any insights that lead to negative growth? Justify with specific reason."
      ],
      "metadata": {
        "id": "b0JNsNcRphqO"
      }
    },
    {
      "cell_type": "markdown",
      "source": [
        "Positive Impact:\n",
        "\n",
        "\n",
        "Identify age groups hesitant to take mental health leave.\n",
        "\n",
        "Improve leave policies by making them more transparent and accessible.\n",
        "\n",
        "Create age-inclusive mental health communication strategies—especially for older employees who may be reluctant or feel stigma.\n",
        "\n",
        "Negative Insight:\n",
        "\n",
        "\n",
        "If many employees, especially older ones, find it “Very difficult” or “Don’t know” how to take leave, this reveals:\n",
        "\n",
        "Poor communication of mental health policies.\n",
        "\n",
        "Fear of judgment or career impact, which can prevent people from getting the help they need."
      ],
      "metadata": {
        "id": "xvSq8iUTphqO"
      }
    },
    {
      "cell_type": "markdown",
      "source": [
        "#### Chart - 8"
      ],
      "metadata": {
        "id": "BZR9WyysphqO"
      }
    },
    {
      "cell_type": "code",
      "source": [
        "# Chart - 8 visualization code# Chart 12: Countplot\n",
        "sns.countplot(x='remote_work', hue='treatment', data=data)\n",
        "plt.title(\"12. Remote Work vs Treatment\")\n",
        "plt.show()"
      ],
      "metadata": {
        "id": "TdPTWpAVphqO"
      },
      "execution_count": null,
      "outputs": []
    },
    {
      "cell_type": "markdown",
      "source": [
        "##### 1. Why did you pick the specific chart?"
      ],
      "metadata": {
        "id": "jj7wYXLtphqO"
      }
    },
    {
      "cell_type": "markdown",
      "source": [
        "A count plot is ideal for comparing the frequency of categorical variables.\n",
        "\n",
        "Among those who work remotely, there are likely more respondents who received treatment than those who didn’t.\n",
        "\n",
        "Among those who do not work remotely, there is also treatment uptake, but the difference between treated and untreated may vary."
      ],
      "metadata": {
        "id": "Ob8u6rCTphqO"
      }
    },
    {
      "cell_type": "markdown",
      "source": [
        "##### 2. What is/are the insight(s) found from the chart?"
      ],
      "metadata": {
        "id": "eZrbJ2SmphqO"
      }
    },
    {
      "cell_type": "markdown",
      "source": [
        "Among those who work remotely, there are likely more respondents who received treatment than those who didn’t.\n",
        "\n",
        "Among those who do not work remotely, there is also treatment uptake, but the difference between treated and untreated may vary."
      ],
      "metadata": {
        "id": "mZtgC_hjphqO"
      }
    },
    {
      "cell_type": "markdown",
      "source": [
        "##### 3. Will the gained insights help creating a positive business impact?\n",
        "Are there any insights that lead to negative growth? Justify with specific reason."
      ],
      "metadata": {
        "id": "rFu4xreNphqO"
      }
    },
    {
      "cell_type": "markdown",
      "source": [
        "Positive Impact:\n",
        "\n",
        "\n",
        "Understand how work settings (remote vs in-office) affect mental health treatment behaviors.\n",
        "\n",
        "Build support structures for both remote and non-remote employees (e.g., teletherapy access, virtual wellness programs).\n",
        "\n",
        "Negative Insight:\n",
        "\n",
        "\n",
        "If non-remote workers are less likely to seek treatment, it may point to:\n",
        "\n",
        "Rigid schedules, lack of privacy, or fear of judgment in physical offices.\n",
        "\n",
        "A culture where mental health is not openly discussed or supported on-site."
      ],
      "metadata": {
        "id": "ey_0qi68phqO"
      }
    },
    {
      "cell_type": "markdown",
      "source": [
        "#### Chart - 9"
      ],
      "metadata": {
        "id": "YJ55k-q6phqO"
      }
    },
    {
      "cell_type": "code",
      "source": [
        "# Chart - 9 visualization code# Chart 13: Horizontal bar chart\n",
        "care = pd.crosstab(data['care_options'], data['treatment'])\n",
        "care.plot(kind='barh', stacked=True, colormap='viridis', title='13. Care Options vs Treatment')\n",
        "plt.show()"
      ],
      "metadata": {
        "id": "B2aS4O1ophqO"
      },
      "execution_count": null,
      "outputs": []
    },
    {
      "cell_type": "markdown",
      "source": [
        "##### 1. Why did you pick the specific chart?"
      ],
      "metadata": {
        "id": "gCFgpxoyphqP"
      }
    },
    {
      "cell_type": "markdown",
      "source": [
        "A horizontal stacked bar chart is ideal for visualizing categorical relationships with multiple sub-categories.\n",
        "\n",
        "It clearly shows the distribution of treatment status across different levels of care options availability:"
      ],
      "metadata": {
        "id": "TVxDimi2phqP"
      }
    },
    {
      "cell_type": "markdown",
      "source": [
        "##### 2. What is/are the insight(s) found from the chart?"
      ],
      "metadata": {
        "id": "OVtJsKN_phqQ"
      }
    },
    {
      "cell_type": "markdown",
      "source": [
        "Respondents who have care options available at work (“Yes”) are more likely to have sought treatment.\n",
        "\n",
        "When no care options are available, a large portion of respondents did not receive treatment."
      ],
      "metadata": {
        "id": "ngGi97qjphqQ"
      }
    },
    {
      "cell_type": "markdown",
      "source": [
        "##### 3. Will the gained insights help creating a positive business impact?\n",
        "Are there any insights that lead to negative growth? Justify with specific reason."
      ],
      "metadata": {
        "id": "lssrdh5qphqQ"
      }
    },
    {
      "cell_type": "markdown",
      "source": [
        "Positive  Impact:\n",
        "\n",
        "\n",
        "Access to care options increases the likelihood of employees seeking mental health treatment.\n",
        "\n",
        "Clear communication about available care options is crucial—many employees who are \"Not sure\" might miss out on help.\n",
        "\n",
        "Negative Insight:\n",
        "\n",
        "\n",
        "A high number of “Not sure” responses suggests:\n",
        "\n",
        "Poor internal visibility of care programs.\n",
        "\n",
        "Missed opportunities to support employees who might be struggling silently."
      ],
      "metadata": {
        "id": "tBpY5ekJphqQ"
      }
    },
    {
      "cell_type": "markdown",
      "source": [
        "#### Chart - 10"
      ],
      "metadata": {
        "id": "U2RJ9gkRphqQ"
      }
    },
    {
      "cell_type": "code",
      "source": [
        "# Chart - 10 visualization code\n",
        "# Chart 14: Stacked bar\n",
        "anon = pd.crosstab(data['anonymity'], data['treatment'])\n",
        "anon.plot(kind='bar', stacked=True, colormap='plasma', title='14. Anonymity vs Treatment')\n",
        "plt.show()"
      ],
      "metadata": {
        "id": "GM7a4YP4phqQ"
      },
      "execution_count": null,
      "outputs": []
    },
    {
      "cell_type": "markdown",
      "source": [
        "##### 1. Why did you pick the specific chart?"
      ],
      "metadata": {
        "id": "1M8mcRywphqQ"
      }
    },
    {
      "cell_type": "markdown",
      "source": [
        "A stacked bar chart is ideal for comparing multiple subcategories within a categorical variable\n",
        "\n",
        "It shows both individual category counts and overall trends.\n",
        "\n",
        "This is important in the Mental Health in Tech dataset, where perceived confidentiality can strongly influence whether someone chooses to seek help."
      ],
      "metadata": {
        "id": "8agQvks0phqQ"
      }
    },
    {
      "cell_type": "markdown",
      "source": [
        "##### 2. What is/are the insight(s) found from the chart?"
      ],
      "metadata": {
        "id": "tgIPom80phqQ"
      }
    },
    {
      "cell_type": "markdown",
      "source": [
        "People who believe mental health support is anonymous (“Yes”) are more likely to seek treatment.\n",
        "\n",
        "Those who say anonymity is not provided (“No”) tend to be less likely to pursue treatment.\n",
        "\n",
        "A significant number of respondents selected “Don’t know”, and many in this group did not receive treatment, likely due to uncertainty or mistrust."
      ],
      "metadata": {
        "id": "Qp13pnNzphqQ"
      }
    },
    {
      "cell_type": "markdown",
      "source": [
        "##### 3. Will the gained insights help creating a positive business impact?\n",
        "Are there any insights that lead to negative growth? Justify with specific reason."
      ],
      "metadata": {
        "id": "JMzcOPDDphqR"
      }
    },
    {
      "cell_type": "markdown",
      "source": [
        "Positive Impact:\n",
        "\n",
        "\n",
        "Organizations that guarantee anonymity can increase employee trust and boost treatment rates.\n",
        "\n",
        "Mental health resources should come with strong privacy assurances.\n",
        "\n",
        "Negative Insight:\n",
        "\n",
        "\n",
        "A high number of “Don’t know” responses or people avoiding treatment where anonymity is unclear suggests:\n",
        "\n",
        "Poor communication about how mental health issues are handled.\n",
        "\n",
        "Fear of exposure or judgment, which may suppress help-seeking."
      ],
      "metadata": {
        "id": "R4Ka1PC2phqR"
      }
    },
    {
      "cell_type": "markdown",
      "source": [
        "#### Chart - 11"
      ],
      "metadata": {
        "id": "x-EpHcCOp1ci"
      }
    },
    {
      "cell_type": "code",
      "source": [
        "# Chart - 11 visualization code\n",
        "# Chart 15: Pie chart (Supervisor)\n",
        "sup_counts = data['supervisor'].value_counts()\n",
        "px.pie(names=sup_counts.index, values=sup_counts.values, title='15. Supervisor Support').show()"
      ],
      "metadata": {
        "id": "mAQTIvtqp1cj"
      },
      "execution_count": null,
      "outputs": []
    },
    {
      "cell_type": "markdown",
      "source": [
        "##### 1. Why did you pick the specific chart?"
      ],
      "metadata": {
        "id": "X_VqEhTip1ck"
      }
    },
    {
      "cell_type": "markdown",
      "source": [
        "A pie chart is perfect for visualizing the proportional distribution of categorical responses\n",
        "It provides a quick snapshot of how supportive employees perceive their supervisors to be regarding mental health issues.\n",
        "\n",
        "In the Mental Health in Tech dataset, this is critical because managerial support plays a key role in employee well-being, openness, and help-seeking behavior."
      ],
      "metadata": {
        "id": "-vsMzt_np1ck"
      }
    },
    {
      "cell_type": "markdown",
      "source": [
        "##### 2. What is/are the insight(s) found from the chart?"
      ],
      "metadata": {
        "id": "8zGJKyg5p1ck"
      }
    },
    {
      "cell_type": "markdown",
      "source": [
        "A significant proportion of employees report that they can talk to some supervisors about mental health, but not all.\n",
        "\n",
        "A smaller portion may say Yes—they feel comfortable discussing it with their supervisor.\n",
        "\n",
        "A notable portion likely reports No—they do not feel comfortable at all talking to their supervisor about mental health issues."
      ],
      "metadata": {
        "id": "ZYdMsrqVp1ck"
      }
    },
    {
      "cell_type": "markdown",
      "source": [
        "##### 3. Will the gained insights help creating a positive business impact?\n",
        "Are there any insights that lead to negative growth? Justify with specific reason."
      ],
      "metadata": {
        "id": "PVzmfK_Ep1ck"
      }
    },
    {
      "cell_type": "markdown",
      "source": [
        "Positive  Impact:\n",
        "\n",
        "\n",
        "The chart helps organizations understand the current state of supervisory trust in mental health discussions.\n",
        "\n",
        "With this insight, companies can:\n",
        "\n",
        "Provide mental health sensitivity training to managers.\n",
        "\n",
        "Build a culture of openness and support from the top down\n",
        "\n",
        "Negative Insight:\n",
        "\n",
        "\n",
        "If a large number of employees respond “No” or “Some of them”, it implies:\n",
        "\n",
        "Inconsistent or poor supervisor training on handling mental health topics.\n",
        "\n",
        "Employees may avoid seeking help, worsening their condition over time."
      ],
      "metadata": {
        "id": "druuKYZpp1ck"
      }
    },
    {
      "cell_type": "markdown",
      "source": [
        "#### Chart - 12"
      ],
      "metadata": {
        "id": "n3dbpmDWp1ck"
      }
    },
    {
      "cell_type": "code",
      "source": [
        "# Chart - 12 visualization code# Chart 2: Pie chart\n",
        "px.pie(data, names='Gender', title='2. Gender Distribution').show()"
      ],
      "metadata": {
        "id": "bwevp1tKp1ck"
      },
      "execution_count": null,
      "outputs": []
    },
    {
      "cell_type": "markdown",
      "source": [
        "##### 1. Why did you pick the specific chart?"
      ],
      "metadata": {
        "id": "ylSl6qgtp1ck"
      }
    },
    {
      "cell_type": "markdown",
      "source": [
        "A pie chart is ideal for visualizing the relative proportions of a categorical variable\n",
        "\n",
        "In the Mental Health in Tech context, gender plays a crucial role in how mental health is perceived, experienced, and addressed in the workplace."
      ],
      "metadata": {
        "id": "m2xqNkiQp1ck"
      }
    },
    {
      "cell_type": "markdown",
      "source": [
        "##### 2. What is/are the insight(s) found from the chart?"
      ],
      "metadata": {
        "id": "ZWILFDl5p1ck"
      }
    },
    {
      "cell_type": "markdown",
      "source": [
        "The majority of respondents are Male, likely over 70% depending on the dataset version.\n",
        "\n",
        "Female respondents form a smaller proportion, while non-binary/other gender identities represent a minority."
      ],
      "metadata": {
        "id": "x-lUsV2mp1ck"
      }
    },
    {
      "cell_type": "markdown",
      "source": [
        "##### 3. Will the gained insights help creating a positive business impact?\n",
        "Are there any insights that lead to negative growth? Justify with specific reason."
      ],
      "metadata": {
        "id": "M7G43BXep1ck"
      }
    },
    {
      "cell_type": "markdown",
      "source": [
        "Positive  Impact:\n",
        "\n",
        "\n",
        "Acknowledge gender disparities and design inclusive wellness programs.\n",
        "\n",
        "Create gender-sensitive support systems, addressing the unique challenges faced by women and non-binary individuals.\n",
        "\n",
        "Negative Insight:\n",
        "\n",
        "\n",
        "If the data shows low female or non-binary participation, it may reflect:\n",
        "\n",
        "Stigma, fear of judgment, or lack of psychological safety in speaking up.\n",
        "\n",
        "Unbalanced outreach efforts, where the mental health resources are not perceived as inclusive or safe."
      ],
      "metadata": {
        "id": "5wwDJXsLp1cl"
      }
    },
    {
      "cell_type": "markdown",
      "source": [
        "#### Chart - 13"
      ],
      "metadata": {
        "id": "Ag9LCva-p1cl"
      }
    },
    {
      "cell_type": "code",
      "source": [
        "# Chart - 13 visualization code\n",
        "for label in data['family_history'].dropna().unique():\n",
        "    sns.kdeplot(data[data['family_history'] == label]['Age'], label=label)\n",
        "plt.title(\"10. KDE: Age by Family History\")\n",
        "plt.legend()\n",
        "plt.show()"
      ],
      "metadata": {
        "id": "EUfxeq9-p1cl"
      },
      "execution_count": null,
      "outputs": []
    },
    {
      "cell_type": "markdown",
      "source": [
        "##### 1. Why did you pick the specific chart?"
      ],
      "metadata": {
        "id": "E6MkPsBcp1cl"
      }
    },
    {
      "cell_type": "markdown",
      "source": [
        "A KDE (Kernel Density Estimate) plot is perfect for showing the distribution of continuous variables like Age while preserving group comparisons.\n",
        "\n",
        "In this case, it reveals how age distributions differ for those with or without a family history of mental illness.\n"
      ],
      "metadata": {
        "id": "V22bRsFWp1cl"
      }
    },
    {
      "cell_type": "markdown",
      "source": [
        "##### 2. What is/are the insight(s) found from the chart?"
      ],
      "metadata": {
        "id": "2cELzS2fp1cl"
      }
    },
    {
      "cell_type": "markdown",
      "source": [
        "Both groups (with and without family history) have age distributions that peak in the 25–35 age range.\n",
        "\n",
        "The “Yes” (family history) group may have a broader spread, suggesting people of various ages report a family history.\n",
        "\n",
        "The “No” group might show a sharper peak, indicating more age concentration, perhaps among younger professionals."
      ],
      "metadata": {
        "id": "ozQPc2_Ip1cl"
      }
    },
    {
      "cell_type": "markdown",
      "source": [
        "##### 3. Will the gained insights help creating a positive business impact?\n",
        "Are there any insights that lead to negative growth? Justify with specific reason."
      ],
      "metadata": {
        "id": "3MPXvC8up1cl"
      }
    },
    {
      "cell_type": "markdown",
      "source": [
        "Positive Impact:\n",
        "\n",
        "Recognize that family history correlates with more diverse age engagement in mental health.\n",
        "\n",
        "Target awareness programs not just by age but by risk awareness (like genetic or family background).\n",
        "\n",
        "Create inclusive initiatives that educate all employees—not just those with known risks.\n",
        "\n",
        "Negative Insight:\n",
        "\n",
        "\n",
        "If younger employees without a family history are less aware or less likely to engage, it could indicate:\n",
        "\n",
        "False sense of immunity, lack of education, or minimal exposure to mental health risks.\n",
        "\n",
        "A culture where early signs of mental distress are overlooked, leading to late-stage intervention."
      ],
      "metadata": {
        "id": "GL8l1tdLp1cl"
      }
    },
    {
      "cell_type": "markdown",
      "source": [
        "#### Chart - 14 - Correlation Heatmap"
      ],
      "metadata": {
        "id": "NC_X3p0fY2L0"
      }
    },
    {
      "cell_type": "code",
      "source": [
        "import pandas as pd\n",
        "import seaborn as sns\n",
        "import matplotlib.pyplot as plt\n",
        "from sklearn.preprocessing import LabelEncoder\n",
        "\n",
        "# Load your dataset (replace with actual file path if using a file)\n",
        "data = pd.read_csv(\"/content/survey.csv\")  # Replace with your CSV file if needed\n",
        "\n",
        "# Encode categorical columns\n",
        "df_encoded = data.copy()\n",
        "for col in df_encoded.columns:\n",
        "    if df_encoded[col].dtype == 'object':\n",
        "        df_encoded[col] = LabelEncoder().fit_transform(df_encoded[col].astype(str))\n",
        "\n",
        "# Compute the correlation matrix\n",
        "correlation_matrix = df_encoded.corr()\n",
        "\n",
        "# Plot the heatmap\n",
        "plt.figure(figsize=(16, 12))\n",
        "sns.heatmap(correlation_matrix, annot=True, cmap='coolwarm', fmt=\".2f\", square=True)\n",
        "plt.title(\"Correlation Heatmap\")\n",
        "plt.show()\n"
      ],
      "metadata": {
        "id": "xyC9zolEZNRQ"
      },
      "execution_count": null,
      "outputs": []
    },
    {
      "cell_type": "markdown",
      "source": [
        "##### 1. Why did you pick the specific chart?"
      ],
      "metadata": {
        "id": "UV0SzAkaZNRQ"
      }
    },
    {
      "cell_type": "markdown",
      "source": [
        "A correlation heatmap is ideal for visualizing relationships between numeric or encoded features in a dataset.\n",
        "\n",
        "\n",
        "In the Mental Health in Tech dataset, many variables are categorical. By encoding them and visualizing their correlations, we can understand how different features interact, such as:\n",
        "\n",
        "Family history with treatment.\n",
        "\n",
        "Work interference with leave difficulty.\n",
        "\n",
        "Anonymity with treatment-seeking."
      ],
      "metadata": {
        "id": "DVPuT8LYZNRQ"
      }
    },
    {
      "cell_type": "markdown",
      "source": [
        "##### 2. What is/are the insight(s) found from the chart?"
      ],
      "metadata": {
        "id": "YPEH6qLeZNRQ"
      }
    },
    {
      "cell_type": "markdown",
      "source": [
        "A moderate positive correlation between:\n",
        "\n",
        "family_history and treatment: Suggesting that people with family history are more likely to seek treatment.\n",
        "\n",
        "work_interfere and treatment: Work interference might drive individuals to get professional help.\n",
        "\n",
        "leave and mental_health_consequence: Difficulty in taking leave may relate to worsened mental health consequences.\n",
        "\n",
        "A negative or weak correlation between:\n",
        "\n",
        "anonymity and treatment: Perception of anonymity might slightly influence treatment but not strongly.\n",
        "\n",
        "phys_health_consequence and treatment: May indicate a disconnect between physical and mental health support or perceptions."
      ],
      "metadata": {
        "id": "bfSqtnDqZNRR"
      }
    },
    {
      "cell_type": "markdown",
      "source": [
        "#### Chart - 15 - Pair Plot"
      ],
      "metadata": {
        "id": "q29F0dvdveiT"
      }
    },
    {
      "cell_type": "code",
      "source": [
        "# Copy your original DataFrame\n",
        "df_pair = data[['Age', 'treatment', 'family_history']].copy()\n",
        "\n",
        "# Encode treatment and family_history (keep Age as is)\n",
        "le = LabelEncoder()\n",
        "df_pair['treatment'] = le.fit_transform(df_pair['treatment'].astype(str))\n",
        "df_pair['family_history'] = le.fit_transform(df_pair['family_history'].astype(str))\n",
        "\n",
        "# Create pairplot\n",
        "sns.pairplot(df_pair, hue='treatment', palette='husl')\n",
        "plt.suptitle(\"8. Pairplot - Age, Treatment, Family History\", y=1.02)\n",
        "plt.tight_layout()\n",
        "plt.show()\n"
      ],
      "metadata": {
        "id": "o58-TEIhveiU"
      },
      "execution_count": null,
      "outputs": []
    },
    {
      "cell_type": "markdown",
      "source": [
        "##### 1. Why did you pick the specific chart?"
      ],
      "metadata": {
        "id": "EXh0U9oCveiU"
      }
    },
    {
      "cell_type": "markdown",
      "source": [
        "A pairplot is ideal when you want to explore relationships between multiple numerical or encoded variables\n",
        "\n",
        "It’s perfect for a quick multivariate analysis of how age, family history, and treatment interact.\n",
        "\n",
        "Color-coding by treatment helps us identify which factors contribute to treatment-seeking behavior."
      ],
      "metadata": {
        "id": "eMmPjTByveiU"
      }
    },
    {
      "cell_type": "markdown",
      "source": [
        "##### 2. What is/are the insight(s) found from the chart?"
      ],
      "metadata": {
        "id": "22aHeOlLveiV"
      }
    },
    {
      "cell_type": "markdown",
      "source": [
        "Individuals with a family history of mental illness (coded 1) are more likely to have received treatment (visible from clustering of certain colors).\n",
        "\n",
        "Age does not show a strong correlation with treatment—treatment is scattered across ages.\n",
        "\n",
        "There may be a visible diagonal trend between treatment and family history, implying some correlation (already seen in the correlation heatmap).\n",
        "\n",
        "The scatterplots allow for a visual comparison of density and trends across the three features."
      ],
      "metadata": {
        "id": "uPQ8RGwHveiV"
      }
    },
    {
      "cell_type": "markdown",
      "source": [
        "## **5. Solution to Business Objective**"
      ],
      "metadata": {
        "id": "JcMwzZxoAimU"
      }
    },
    {
      "cell_type": "markdown",
      "source": [
        "#### What do you suggest the client to achieve Business Objective ?\n",
        "Explain Briefly."
      ],
      "metadata": {
        "id": "8G2x9gOozGDZ"
      }
    },
    {
      "cell_type": "markdown",
      "source": [
        "Based on the insights from the *Mental Health in Tech Survey*, the client should aim to develop a **data-driven mental health support strategy** that fosters a safe, inclusive, and supportive workplace culture. The analysis reveals gaps in awareness, supervisor support, and accessibility of mental health resources. By addressing these issues, the client can improve employee well-being, boost productivity, and reduce turnover, leading to long-term positive business outcomes.\n",
        "\n",
        "### Suggested Actions:\n",
        "\n",
        "*  Improve awareness of mental health policies, leave options, and care resources.\n",
        "*  Provide supervisor training to encourage open and supportive communication.\n",
        "*  Focus on high-risk groups (e.g., those with family history, work interference).\n",
        "*  Promote inclusivity and psychological safety for all gender identities.\n",
        "*  Regularly track mental health trends and adapt programs based on feedback.\n"
      ],
      "metadata": {
        "id": "pASKb0qOza21"
      }
    },
    {
      "cell_type": "markdown",
      "source": [
        "# **Conclusion**"
      ],
      "metadata": {
        "id": "gCX9965dhzqZ"
      }
    },
    {
      "cell_type": "markdown",
      "source": [
        "In conclusion, the analysis of the Mental Health in Tech Survey highlights the urgent need for organizations to prioritize mental health by implementing targeted, inclusive, and well-communicated support strategies. Key factors such as family history, work interference, lack of anonymity, and inadequate supervisor support significantly influence treatment-seeking behavior. By addressing these areas through training, awareness, and accessible resources, companies can foster a mentally healthier workplace, leading to improved employee engagement, reduced burnout, and a stronger organizational culture.\n"
      ],
      "metadata": {
        "id": "Fjb1IsQkh3yE"
      }
    },
    {
      "cell_type": "markdown",
      "source": [
        "### ***Hurrah! You have successfully completed your EDA Capstone Project !!!***"
      ],
      "metadata": {
        "id": "gIfDvo9L0UH2"
      }
    },
    {
      "cell_type": "code",
      "source": [],
      "metadata": {
        "id": "dYX880etpL0x"
      },
      "execution_count": null,
      "outputs": []
    },
    {
      "cell_type": "code",
      "source": [],
      "metadata": {
        "id": "-6Vl263upPVI"
      },
      "execution_count": null,
      "outputs": []
    }
  ]
}